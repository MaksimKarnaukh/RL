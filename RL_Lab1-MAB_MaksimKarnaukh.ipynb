{
 "cells": [
  {
   "cell_type": "markdown",
   "metadata": {},
   "source": [
    "**Student name:** Maksim Karnaukh\n",
    "\n",
    "**Student ID:** 20201604"
   ]
  },
  {
   "cell_type": "markdown",
   "metadata": {},
   "source": [
    "# Lab 1: Multi-Armed Bandits\n",
    "\n",
    "### Instructions: **TODO** tags\n",
    "In this lab session, we will be implementing the multi-armed bandit framework, along with several algorithms studied in the course. This lab aims to understand their differences in design and performance.\n",
    "\n",
    "Please *read* and *run* the notebook chronologically, and fill in the **TODO**s as you encounter them.\n",
    "* <span style=\"color:blue\"> Blue **TODOs** </span> means you have to implement the TODOs in the code.\n",
    "* <span style=\"color:red\"> Red **TODOs** </span> means you have to submit an explanation (of graph/results).\n",
    "\n",
    "\n",
    "At each section, <span style=\"color:green\"> (xx points) </span> indicates the number of points of the entire section (labs are graded out of 10).\n",
    "### Libraries\n",
    "- We will be using [numpy](https://numpy.org/doc/stable/user/absolute_beginners.html), the main library for linear algebra in Python, for virtually all of our mathematical operations in all the labs. It enables efficient operations on arrays of scalars. If you are unfamiliar with numpy, please look into the documentation or tutorials (navigator searches work well!). In this lab, you will for example need to [initialize arrays](https://numpy.org/doc/stable/reference/generated/numpy.full.html) or [generate random numbers](https://docs.scipy.org/doc/numpy-1.15.1/reference/routines.random.html) from miscellaneous distributions.\n",
    "\n",
    "- We will be using [matplotlib](https://matplotlib.org/stable/index.html) for plotting. You normally won't need to look into it, but feel free to do so if you need to display fancier graphs.\n",
    "\n",
    "\n",
    "## 1. <span style=\"color:green\"> (3 points) </span> Multi-armed Bandit Setting\n",
    "First we will implement the agent-bandit interactions. <br>\n",
    "At each step, the *Agent* performs an *action* using its *policy*. This is formalized as the `act` method. <br>\n",
    "Given said action, the *Bandit* (slot machine) provides a *reward* as feedback. This is formalized as the `pull` method. <br>\n",
    "The agent *learns* from that feedback (adapts its policy). This is formalized as the `learn` method."
   ]
  },
  {
   "cell_type": "code",
   "execution_count": 120,
   "metadata": {
    "ExecuteTime": {
     "end_time": "2024-02-27T03:05:45.857242900Z",
     "start_time": "2024-02-27T03:05:45.700702400Z"
    }
   },
   "outputs": [],
   "source": [
    "import numpy as np\n",
    "import matplotlib\n",
    "import matplotlib.pyplot as plt"
   ]
  },
  {
   "cell_type": "markdown",
   "metadata": {},
   "source": [
    "### 1.1. Abstract Agent object\n",
    "The Agent is `reset` at the start of a run. <br>\n",
    "During a run, it can `act` to pull a lever, and `learn` from an `action`-`reward` pair.<br>\n",
    "Please read the doc and function signatures; you don't have to write anything here."
   ]
  },
  {
   "cell_type": "code",
   "execution_count": 121,
   "metadata": {
    "ExecuteTime": {
     "end_time": "2024-02-27T03:05:45.874421700Z",
     "start_time": "2024-02-27T03:05:45.715105900Z"
    }
   },
   "outputs": [],
   "source": [
    "class Bandit_Agent(object):\n",
    "    \"\"\"\n",
    "    Abstract Agent to solve a Bandit problem.\n",
    "\n",
    "    Contains the methods learn() and act() for the base life cycle of an agent.\n",
    "    The reset() method reinitializes the agent.\n",
    "    The minimum requirement to instantiate a child class of Bandit_Agent\n",
    "    is that it implements the act() method.\n",
    "    \"\"\"\n",
    "    def __init__(self, k:int, **kwargs):\n",
    "        \"\"\"\n",
    "        Simply stores the number of arms of the Bandit problem.\n",
    "        The __init__() method handles hyperparameters.\n",
    "        Parameters\n",
    "        ----------\n",
    "        k: positive int\n",
    "            Number of arms of the Bandit problem.\n",
    "        kwargs: dictionary\n",
    "            Additional parameters, ignored.\n",
    "        \"\"\"\n",
    "        self.k = k\n",
    "\n",
    "    def reset(self):\n",
    "        \"\"\"\n",
    "        Reinitializes the agent to 0 knowledge, good as new.\n",
    "\n",
    "        No inputs or outputs.\n",
    "        The reset() method handles variables.\n",
    "        \"\"\"\n",
    "        pass\n",
    "\n",
    "    def learn(self, a:int, r:float):\n",
    "        \"\"\"\n",
    "        Learning method. The agent learns that action a yielded reward r.\n",
    "        Parameters\n",
    "        ----------\n",
    "        a: positive int < k\n",
    "            Action that yielded the received reward r.\n",
    "        r: float\n",
    "            Reward for having performed action a.\n",
    "        \"\"\"\n",
    "        pass\n",
    "\n",
    "    def act(self) -> int:\n",
    "        \"\"\"\n",
    "        Agent's method to select a lever (or Bandit) to pull.\n",
    "        Returns\n",
    "        -------\n",
    "        a : positive int < k\n",
    "            The action the agent chose to perform.\n",
    "        \"\"\"\n",
    "        raise NotImplementedError(\"Calling method act() in Abstract class Bandit_Agent\")\n"
   ]
  },
  {
   "cell_type": "markdown",
   "metadata": {},
   "source": [
    "### 1.2. <span style=\"color:blue\"> **TODO** </span>: Random Agent\n",
    "Now we implement the *Random* Agent as a baseline. <br> \n",
    "The Random agent does not learn, it picks a random action at all steps. <br>\n",
    "<span style=\"color:blue\"> **TODO** </span> Implement the  act method of the Random Agent."
   ]
  },
  {
   "cell_type": "code",
   "execution_count": 122,
   "metadata": {
    "ExecuteTime": {
     "end_time": "2024-02-27T03:05:45.983120300Z",
     "start_time": "2024-02-27T03:05:45.722029100Z"
    }
   },
   "outputs": [],
   "source": [
    "class Random_Agent(Bandit_Agent):\n",
    "    \"\"\"\n",
    "    This agent doesn't learn, just acts purely randomly.\n",
    "    \"\"\"\n",
    "    def act(self):\n",
    "        \"\"\"\n",
    "        Random action selection.\n",
    "        Returns\n",
    "        -------\n",
    "        a : positive int < k\n",
    "            A randomly selected action.\n",
    "        \"\"\"\n",
    "        # DONE, using the numpy random function\n",
    "        return np.random.randint(self.k)"
   ]
  },
  {
   "cell_type": "markdown",
   "metadata": {},
   "source": [
    "### 1.3. <span style=\"color:blue\"> **TODO** </span> KBandit object\n",
    "In this lab our k-armed Bandit is going to be a set of k Gaussian distributions. We **also** select the **means** from a **standard normalized Gaussian N(0,1)**. Note that in the general case, the distributions of each rewards can be anything and don't have to be within the same distribution family. \n",
    "\n",
    "The KBandit (k-armed Bandit) is `reset` at the start of a run. <br>\n",
    "During a run, the agent chooses a lever, which the bandit `pull`s to output a reward.<br>\n",
    "Please read the doc and function signatures; you don't have to write anything here.\n",
    "\n",
    "<span style=\"color:blue\"> **TODO** </span>: fill in the TODOs in the code (1 in `reset` method; 1 in `pull` method)."
   ]
  },
  {
   "cell_type": "code",
   "execution_count": 123,
   "metadata": {
    "ExecuteTime": {
     "end_time": "2024-02-27T03:05:46.030034600Z",
     "start_time": "2024-02-27T03:05:45.733427500Z"
    }
   },
   "outputs": [],
   "source": [
    "class KBandit(object):\n",
    "    \"\"\" Set of k Gaussian distributions as reward functions. \"\"\"\n",
    "    def __init__(self, k, **kwargs):\n",
    "        \"\"\"\n",
    "        Instantiates the k-armed bandit, with a number of arms, and initializes\n",
    "        the set of distributions to new standardized Gaussians in a list.\n",
    "        The reset() method is supposedly called from outside.\n",
    "        The means are chosen randomly in a standard normalized Gaussian N(0,1).\n",
    "        Parameters\n",
    "        ----------\n",
    "        k: positive int\n",
    "            Number of arms of the problem.\n",
    "        \"\"\"\n",
    "        self.k = k\n",
    "        self.distributions = None\n",
    "\n",
    "    def reset(self):\n",
    "        \"\"\" Resets each of the k bandits. \"\"\"\n",
    "        # DONE: list of k Gaussians, i.e. (mu,std=1) pairs, with mu sampled from N(0,1)\n",
    "        self.distributions = [(np.random.normal(), 1) for _ in range(self.k)]\n",
    "        \n",
    "    def best_action(self):\n",
    "        \"\"\" A function only for our analysis; the agents do not know this. \"\"\"\n",
    "        return np.argmax([distrib[0] for distrib in self.distributions]) # for plotting purposes\n",
    "        \n",
    "    def pull(self, action:int) -> float:\n",
    "        \"\"\"\n",
    "        Pulls the lever corresponding to the action. \n",
    "        In other words, samples a reward from the corresponding distribution.\n",
    "        Returns the reward.\n",
    "        Parameters\n",
    "        ----------\n",
    "        action: positive int < k\n",
    "            Lever to pull.\n",
    "        Returns\n",
    "        -------\n",
    "        reward : float\n",
    "            Reward for pulling this lever.\n",
    "        \"\"\"\n",
    "        # DONE: pull a lever to sample a reward given an action, return the reward.\n",
    "        mean, std = self.distributions[action]\n",
    "        return np.random.normal(mean, std)"
   ]
  },
  {
   "cell_type": "markdown",
   "metadata": {},
   "source": [
    "### 1.4. <span style=\"color:blue\"> **TODO** </span> Running the Agent-Bandit interactions\n",
    "Now we can implement the loop of interactions of the Agent with the Bandit.\n",
    "To visualize our results, we want to store the reward obtained, as well as whether the action performed was optimal.\n",
    "\n",
    "<span style=\"color:blue\"> **TODO** </span>: fill in the TODOs in the code."
   ]
  },
  {
   "cell_type": "code",
   "execution_count": 124,
   "metadata": {
    "ExecuteTime": {
     "end_time": "2024-02-27T03:05:46.044201900Z",
     "start_time": "2024-02-27T03:05:45.743427700Z"
    }
   },
   "outputs": [],
   "source": [
    "def run_bandit(agent, kbandit, max_steps) -> (np.array, np.array):\n",
    "    \"\"\"\n",
    "    Runs a Bandit problem once. The kbandit and agent are reinitializated,\n",
    "    then for max_steps, we run the bandit-agent interactions with learning.\n",
    "    We return the performance of the agent, i.e. the rewards along the way,\n",
    "    as well as a boolean array of the best action being performed.\n",
    "    Parameters\n",
    "    ----------\n",
    "    agent: Bandit_Agent\n",
    "        An instance of a Bandit_Agent to solve the problem.\n",
    "    kbandit: KBandit\n",
    "        k-armed bandit problem, i.e. k slot machines with a reward distribution.\n",
    "    max_steps: positive int\n",
    "        Number of steps to run the problem.\n",
    "    Returns\n",
    "    -------\n",
    "    perf, best_action : np.array, np.array\n",
    "        Arrays of size max_steps containing all\n",
    "            - perf: rewards obtained by the agent during the run.\n",
    "            - best_action: boolean array, whether the agent did the best action.\n",
    "    \"\"\"\n",
    "    # DONE: prepare the agent and bandit for the run.\n",
    "    agent.reset()\n",
    "    kbandit.reset()\n",
    "    \n",
    "    perf = np.empty(max_steps)\n",
    "    best_action = np.empty(max_steps)\n",
    "    for step in range(max_steps):\n",
    "        # DONE: agent acts\n",
    "        action = agent.act()\n",
    "        # DONE: pull an arm of the bandit\n",
    "        reward = kbandit.pull(action)\n",
    "        # DONE: learn that this action gave this reward\n",
    "        agent.learn(action, reward)\n",
    "\n",
    "        # Plotting. Nothing to do here.\n",
    "        perf[step] = reward\n",
    "        best_action[step] = int(action == kbandit.best_action())\n",
    "\n",
    "    return perf, best_action"
   ]
  },
  {
   "cell_type": "markdown",
   "metadata": {},
   "source": [
    "### 1.5. Plotting the results: Random Agent performance\n",
    "Since these experiments involve a lot of stochasticity, we do multiple runs in order to extract average behavior.<br>\n",
    "**Run** the following cells to visualize the Random agent performance. <br>\n",
    "You don't have anything to write in the next code cells. Please do read through them to understand what we're doing.<br>"
   ]
  },
  {
   "cell_type": "code",
   "execution_count": 125,
   "metadata": {
    "ExecuteTime": {
     "end_time": "2024-02-27T03:05:46.059538700Z",
     "start_time": "2024-02-27T03:05:45.751890300Z"
    }
   },
   "outputs": [],
   "source": [
    "def run_multiple_bandits(n_runs, **kwargs) -> (np.array, np.array):\n",
    "    \"\"\"\n",
    "    Runs multiple independent bandit problems; outputs the mean of the results.\n",
    "    Parameters\n",
    "    ----------\n",
    "    agent, kbandit, n_runs: see run_bandit\n",
    "        See function run_bandit\n",
    "    Returns\n",
    "    -------\n",
    "    ret : expected_type\n",
    "        description\n",
    "    \"\"\"\n",
    "    perfs = []\n",
    "    best_actions = []\n",
    "    for run in range(n_runs):\n",
    "        perf, best_action = run_bandit(**kwargs)\n",
    "        perfs.append(perf)\n",
    "        best_actions.append(best_action)\n",
    "\n",
    "    return np.mean(perfs,axis=0), np.mean(best_actions,axis=0)"
   ]
  },
  {
   "cell_type": "code",
   "execution_count": 126,
   "metadata": {
    "ExecuteTime": {
     "end_time": "2024-02-27T03:05:46.080874800Z",
     "start_time": "2024-02-27T03:05:45.764082400Z"
    }
   },
   "outputs": [],
   "source": [
    "def make_plot(l, suptitle, title, xlabel, ylabel,\n",
    "              labels=None, interval_yaxis=None):\n",
    "    \"\"\" Simply saves a plot with multiple usual arguments.\"\"\"\n",
    "    if labels is None:\n",
    "        plt.plot(l)\n",
    "    else:\n",
    "        for perf, label in zip(l, labels):\n",
    "            plt.plot(smooth_fast(perf), label=label)\n",
    "        plt.legend()\n",
    "\n",
    "    plt.suptitle(suptitle, fontsize=14, fontweight='bold')\n",
    "    plt.title(title)\n",
    "    plt.xlabel(xlabel)\n",
    "    plt.ylabel(ylabel)\n",
    "\n",
    "    if interval_yaxis is not None:\n",
    "        new_y1, new_y2 = interval_yaxis\n",
    "        x1,x2,y1,y2 = plt.axis()\n",
    "        plt.axis((x1,x2,new_y1,new_y2))\n",
    "\n",
    "    plt.plot()\n",
    "    plt.show()\n",
    "    \n",
    "def smooth_fast(y, box_pts=5):\n",
    "    n = len(y)\n",
    "    ws = 2*box_pts +1\n",
    "    y_smooth = []\n",
    "    for i,yi in enumerate(y):\n",
    "        if i < box_pts:\n",
    "            y_smooth.append(None)\n",
    "        elif i == box_pts:\n",
    "            y_smooth.append(np.mean(y[i-box_pts:i+box_pts+1]))\n",
    "        elif i < n - box_pts:\n",
    "            y_smooth.append(y_smooth[i-1] + (y[i + box_pts] - y[i - box_pts - 1])/ws)\n",
    "        elif i < n:\n",
    "            y_smooth.append(None)\n",
    "\n",
    "    return y_smooth\n",
    "\n",
    "def action_plot(l, suptitle, title, labels=None):\n",
    "    make_plot(l, suptitle, title, 'Steps', 'Best action proportion', labels, interval_yaxis=[0,1])\n",
    "\n",
    "def perf_plot(l, suptitle, title, labels=None):\n",
    "    make_plot(l, suptitle, title, 'Steps', 'Average Reward', labels, interval_yaxis=None)\n",
    "\n",
    "def dict_string(d):\n",
    "    \"\"\" Turns a dictionary to a single readable string \"\"\"\n",
    "    s = \"\"\n",
    "    for key, value in d.items():\n",
    "        s += \"{}:{}, \".format(key, value)\n",
    "    return s[:-2] # erase final comma and space"
   ]
  },
  {
   "cell_type": "code",
   "execution_count": 127,
   "metadata": {
    "ExecuteTime": {
     "end_time": "2024-02-27T03:06:00.641993800Z",
     "start_time": "2024-02-27T03:05:45.850114700Z"
    }
   },
   "outputs": [
    {
     "data": {
      "text/plain": "<Figure size 640x480 with 1 Axes>",
      "image/png": "[encoded data removed]"
     },
     "metadata": {},
     "output_type": "display_data"
    },
    {
     "data": {
      "text/plain": "<Figure size 640x480 with 1 Axes>",
      "image/png": "[encoded data removed]"
     },
     "metadata": {},
     "output_type": "display_data"
    }
   ],
   "source": [
    "## HYPERPARAMETERS AND AGENTS ==================================================\n",
    "config = {\n",
    "    'k': 10\n",
    "}\n",
    "\n",
    "n_runs = 1000\n",
    "max_steps = 1000 # time budget per run\n",
    "agent = Random_Agent(**config)\n",
    "kbandit = KBandit(**config)\n",
    "\n",
    "perfs, best_actions = run_multiple_bandits(n_runs, agent=agent, kbandit=kbandit, max_steps=max_steps)\n",
    "labels = ['Random']\n",
    "suptitle = 'Random Agent on Gaussian k-armed-Bandit'\n",
    "title = dict_string(config)\n",
    "\n",
    "action_plot ([best_actions], suptitle, title, labels)\n",
    "perf_plot   ([perfs],  suptitle, title, labels)"
   ]
  },
  {
   "cell_type": "markdown",
   "metadata": {},
   "source": [
    "### 1.6. <span style=\"color:red\"> **TODO** </span> Please explain your results in a paragraph in this cell.\n",
    "\n",
    "#### Explanation\n",
    "From the plots we can see that the Random Agent doesn't perform well on the k-armed bandit problem. The percentage of the best action being performed is roughly around 0.1 (10%), because the agent is not learning and is choosing pure randomly. The average reward is also very low, roughly fluctuating in the range [-0.4, 0.4], since the agent is not learning to select the best action. This can serve as a baseline for other methods (as plotted later)."
   ]
  },
  {
   "cell_type": "markdown",
   "metadata": {},
   "source": [
    "## 2. <span style=\"color:green\"> (7 points) </span> Bandit Algorithms\n",
    "Now we are going to implement learning Agents in order to select the best action/lever/arm to pull to maximize the obtained reward.\n",
    "\n",
    "**Note** that a lot of these agents will use an `argmax`, however numpy returns the *first* argmax, while we want to break ties randomly, since there is no reason to prefer an action than another, and this might harm exploration. Please use the following argmax function:"
   ]
  },
  {
   "cell_type": "code",
   "execution_count": 128,
   "metadata": {
    "ExecuteTime": {
     "end_time": "2024-02-27T03:06:00.655757500Z",
     "start_time": "2024-02-27T03:06:00.640977Z"
    }
   },
   "outputs": [],
   "source": [
    "def my_argmax(x):\n",
    "    return np.random.choice(np.where(x == x.max())[0])"
   ]
  },
  {
   "cell_type": "markdown",
   "metadata": {},
   "source": [
    "### 2.1. <span style=\"color:blue\"> **TODO** </span> Epsilon-Greedy, Sample Average"
   ]
  },
  {
   "cell_type": "code",
   "execution_count": 129,
   "metadata": {
    "ExecuteTime": {
     "end_time": "2024-02-27T03:06:00.656760100Z",
     "start_time": "2024-02-27T03:06:00.652760300Z"
    }
   },
   "outputs": [],
   "source": [
    "class EpsGreedy_SampleAverage(Bandit_Agent):\n",
    "    # DONE: implement this class following the Agent formalism above.\n",
    "    # This class uses Sample Averages to estimate q; others are non stationary.\n",
    "    \n",
    "    def __init__(self, eps, k, **kwargs):\n",
    "        self.eps = eps\n",
    "        self.k = k\n",
    "        super().__init__(self.k, **kwargs)\n",
    "        self.q = np.zeros(self.k, dtype=np.float64)\n",
    "        self.n = np.zeros(self.k)\n",
    "        \n",
    "    def reset(self):\n",
    "        self.q = np.zeros(self.k, dtype=np.float64)\n",
    "        self.n = np.zeros(self.k)\n",
    "        \n",
    "    def learn(self, a:int, r:float):\n",
    "        self.n[a] += 1\n",
    "        self.q[a] += (r - self.q[a]) / self.n[a]\n",
    "        \n",
    "    def act(self) -> int:\n",
    "        if np.random.rand() < self.eps:\n",
    "            return np.random.randint(self.k)\n",
    "        else:\n",
    "            return my_argmax(self.q)\n"
   ]
  },
  {
   "cell_type": "markdown",
   "metadata": {},
   "source": [
    "### 2.2. <span style=\"color:blue\"> **TODO** </span> Epsilon-Greedy, Weighted Average\n",
    "Please use `lr` for the learning rate; it is passed as input to the `__init__` method."
   ]
  },
  {
   "cell_type": "code",
   "execution_count": 130,
   "metadata": {
    "ExecuteTime": {
     "end_time": "2024-02-27T03:06:00.664370900Z",
     "start_time": "2024-02-27T03:06:00.661373800Z"
    }
   },
   "outputs": [],
   "source": [
    "class EpsGreedy_WeightedAverage(EpsGreedy_SampleAverage):\n",
    "    # DONE: implement this class following the formalism above.\n",
    "    # Non stationary agent with q estimating and eps-greedy action selection.\n",
    "    \n",
    "    # PLEASE USE THE LR HYPERPARAMETER FOR THE LEARNING RATE\n",
    "    \n",
    "    def __init__(self, **kwargs):\n",
    "        self.lr = kwargs['lr']\n",
    "        super().__init__(**kwargs)\n",
    "        \n",
    "    def learn(self, a:int, r:float):\n",
    "        self.n[a] += 1\n",
    "        self.q[a] += self.lr * (r - self.q[a])"
   ]
  },
  {
   "cell_type": "markdown",
   "metadata": {},
   "source": [
    "### 2.3. <span style=\"color:blue\"> **TODO** </span> Optimistic Greedy"
   ]
  },
  {
   "cell_type": "code",
   "execution_count": 131,
   "metadata": {
    "ExecuteTime": {
     "end_time": "2024-02-27T03:06:00.760770500Z",
     "start_time": "2024-02-27T03:06:00.670648400Z"
    }
   },
   "outputs": [],
   "source": [
    "class OptimisticGreedy(EpsGreedy_WeightedAverage):\n",
    "    # DONE: implement this class following the formalism above.\n",
    "    # Same as above but with optimistic starting values.\n",
    "    \n",
    "    def __init__(self, q0, **kwargs):\n",
    "        self.q0 = q0\n",
    "        super().__init__(**kwargs)\n",
    "        self.q = np.full(self.k, self.q0, dtype=np.float64)\n",
    "        self.n = np.zeros(self.k)\n",
    "        \n",
    "    def reset(self):\n",
    "        self.q = np.full(self.k, self.q0, dtype=np.float64)\n",
    "        self.n = np.zeros(self.k)\n",
    "        \n",
    "    def act(self) -> int:\n",
    "        # since the distributions don't change (stationary), we can just use the argmax; it will work best with eps=0.\n",
    "        return my_argmax(self.q)"
   ]
  },
  {
   "cell_type": "markdown",
   "metadata": {},
   "source": [
    "### 2.4. <span style=\"color:blue\"> **TODO** </span> UCB\n",
    "UCB works with either Sample or Weighted Averages. Please use Weighted Averages. Please use `lr` for the learning rate; it is passed as input to the `__init__` method."
   ]
  },
  {
   "cell_type": "code",
   "execution_count": 132,
   "metadata": {
    "ExecuteTime": {
     "end_time": "2024-02-27T03:06:00.760770500Z",
     "start_time": "2024-02-27T03:06:00.676653900Z"
    }
   },
   "outputs": [],
   "source": [
    "class UCB(EpsGreedy_WeightedAverage):\n",
    "    # DONE: implement this class following the formalism above.\n",
    "    \n",
    "    # PLEASE USE THE LR HYPERPARAMETER FOR THE LEARNING RATE\n",
    "    \n",
    "    def __init__(self, c, **kwargs):\n",
    "        self.c = c\n",
    "        super().__init__(**kwargs)\n",
    "        self.t = 0\n",
    "        \n",
    "    def reset(self):\n",
    "        super().reset()\n",
    "        self.t = 0\n",
    "        \n",
    "    def act(self):\n",
    "        self.t += 1\n",
    "        indices_of_zero = np.where(self.n == 0)[0]\n",
    "        if len(indices_of_zero) > 0: # if there are still unexplored actions (meaning n[a] == 0 for some a)\n",
    "            return np.random.choice(indices_of_zero)\n",
    "        else:\n",
    "            return my_argmax(np.array([self.q[i] + self.c * np.sqrt(np.log(self.t) / self.n[i]) for i in range(self.k)]))"
   ]
  },
  {
   "cell_type": "markdown",
   "metadata": {},
   "source": [
    "### 2.5. <span style=\"color:blue\"> **TODO** </span> Gradient Bandit\n",
    "Please use `alpha` for the learning rate; it is passed as input to the `__init__` method.\n",
    "\n",
    "Below are some functions that you might find useful: the softmax function used to extract a policy from the preferences; and a surprisingly faster version of `np.random.choice`, which is trying to do too complicated things for our simple purposes."
   ]
  },
  {
   "cell_type": "code",
   "execution_count": 133,
   "metadata": {
    "ExecuteTime": {
     "end_time": "2024-02-27T03:06:00.761773Z",
     "start_time": "2024-02-27T03:06:00.686146600Z"
    }
   },
   "outputs": [],
   "source": [
    "# You don't have anything to do in this cell. These methods will be helpful for the Gradient Bandit Agent.\n",
    "def softmax(x):\n",
    "    \"\"\" Compute softmax values for each sets of scores in x.\"\"\"\n",
    "    e_x = np.exp(x - np.max(x))\n",
    "    return e_x / e_x.sum()\n",
    "\n",
    "def my_random_choice(v, p=None):\n",
    "    \"\"\" Faster version of the np.random.choice function with probabilities \"\"\"\n",
    "    if p is None:\n",
    "        return v[np.random.randint(len(v))]\n",
    "    # else (general case)\n",
    "    assert (abs(sum(p)-1.)<1e-6), \"Invalid probability vector p, sum={}\".format(sum(p))\n",
    "    r = np.random.rand()\n",
    "    i = 0\n",
    "    s = p[i]\n",
    "    while s < r:\n",
    "        i += 1\n",
    "        s += p[i]\n",
    "\n",
    "    if type(v) is int:\n",
    "        assert len(p) == v, \"Int doesn't match proba length: {} != {}\".format(v, len(p))\n",
    "        return i\n",
    "    else:\n",
    "        assert len(v) == len(p), \"Incorrect entry lengths v,p: {} != {}\".format(len(v), len(p))\n",
    "        return v[i]"
   ]
  },
  {
   "cell_type": "code",
   "execution_count": 134,
   "metadata": {
    "ExecuteTime": {
     "end_time": "2024-02-27T03:06:00.761773Z",
     "start_time": "2024-02-27T03:06:00.703758500Z"
    }
   },
   "outputs": [],
   "source": [
    "class Gradient_Bandit(Bandit_Agent):\n",
    "    # DONE: implement this class following the formalism above.\n",
    "    # If you want this to run fast, use the my_random_choice function defined above,\n",
    "    # instead of np.random.choice to sample from the softmax.\n",
    "    # You can also find the softmax function above.\n",
    "    \n",
    "    # PLEASE USE THE ALPHA HYPERPARAMETER FOR THE LEARNING RATE\n",
    "    \n",
    "    def __init__(self, alpha, c, k, **kwargs):\n",
    "        self.k = k\n",
    "        self.alpha = alpha\n",
    "        self.c = c\n",
    "        super().__init__(self.k, **kwargs)\n",
    "        \n",
    "        self.H = np.zeros(self.k, dtype=np.float64)\n",
    "        self.avg_reward = 0.0\n",
    "        self.t = 0\n",
    "        \n",
    "    def reset(self):\n",
    "        self.H = np.zeros(self.k, dtype=np.float64)\n",
    "        self.avg_reward = 0.0\n",
    "        self.t = 0\n",
    "        \n",
    "    def learn(self, a:int, r:float):\n",
    "        \"\"\"\n",
    "        Mostly based on the book. \n",
    "        \"\"\"\n",
    "        self.t += 1\n",
    "        self.avg_reward += (r - self.avg_reward) / self.t\n",
    "        \n",
    "        e = r - self.avg_reward\n",
    "        p = softmax(self.H)\n",
    "        \n",
    "        for action in range(self.k):\n",
    "            a_pref = self.H[action]\n",
    "            a_prob = p[action]\n",
    "            if action == a:\n",
    "                self.H[action] = a_pref + self.alpha * e * (1 - a_prob)\n",
    "            else:\n",
    "                self.H[action] = a_pref - self.alpha * e * a_prob\n",
    "                        \n",
    "    def act(self):\n",
    "        p = softmax(self.H)\n",
    "        return my_random_choice(self.k, p)\n"
   ]
  },
  {
   "cell_type": "markdown",
   "metadata": {},
   "source": [
    "### 2.6. Plotting the results: All Agent performances.\n",
    "We now compare all agents.\n",
    "**Run** the following cells to visualize all the Agents' performances at once. <br>\n",
    "You don't have anything to write in the next code cells. Please do read through them to understand what we're doing.<br>\n",
    "\n",
    "*If don't want to test all agents at once during your implementation, comment out the rest from the list of `agents`.* <br> \n",
    "**You have to submit the combined plot with all the Agents; please don't make us run it.**"
   ]
  },
  {
   "cell_type": "code",
   "execution_count": 135,
   "metadata": {
    "ExecuteTime": {
     "end_time": "2024-02-27T03:06:00.761773Z",
     "start_time": "2024-02-27T03:06:00.712037800Z"
    }
   },
   "outputs": [],
   "source": [
    "def run_multiple_agents(agents, **kwargs):\n",
    "    \"\"\"\n",
    "    Launches run_multiple_bandits for a list of agents.\n",
    "    Outputs a list of the returns.\n",
    "    Parameters\n",
    "    ----------\n",
    "    agents : list of agents\n",
    "        instantiated agents on which to perform the runs on.\n",
    "    **kwargs: dictionary\n",
    "        Inputs for the function run_multiple_bandits\n",
    "    Returns\n",
    "    -------\n",
    "    ret : list\n",
    "        list of the outputs from the run_multiple_bandits function for each\n",
    "        agent from the agents list.\n",
    "    \"\"\"\n",
    "    perfs = []\n",
    "    best_actions = []\n",
    "    for agent in agents:\n",
    "        print(agent.__class__.__name__)\n",
    "        kwargs['agent'] = agent\n",
    "        perf, best_action = run_multiple_bandits(**kwargs)\n",
    "        perfs.append(perf)\n",
    "        best_actions.append(best_action)\n",
    "\n",
    "    return perfs, best_actions"
   ]
  },
  {
   "cell_type": "code",
   "execution_count": null,
   "metadata": {
    "is_executing": true,
    "ExecuteTime": {
     "start_time": "2024-02-27T03:06:00.721190700Z"
    }
   },
   "outputs": [
    {
     "name": "stdout",
     "output_type": "stream",
     "text": [
      "Random_Agent\n",
      "EpsGreedy_WeightedAverage\n",
      "EpsGreedy_SampleAverage\n",
      "OptimisticGreedy\n",
      "UCB\n"
     ]
    }
   ],
   "source": [
    "## HYPERPARAMETERS AND AGENTS ==================================================\n",
    "config = {\n",
    "    'k': 10,\n",
    "    'lr': 0.1,\n",
    "    'alpha': 0.25,\n",
    "    'eps': 0.1,\n",
    "    'c': 0.5,\n",
    "    'q0': 1\n",
    "}\n",
    "\n",
    "n_runs = 1000\n",
    "max_steps = 1000 # time budget per run\n",
    "agents = [\n",
    "    Random_Agent(**config),\n",
    "    EpsGreedy_WeightedAverage(**config),\n",
    "    EpsGreedy_SampleAverage(**config),\n",
    "    OptimisticGreedy(**config),\n",
    "    UCB(**config),\n",
    "    Gradient_Bandit(**config)\n",
    "]\n",
    "\n",
    "kbandit = KBandit(**config)\n",
    "\n",
    "perfs, best_actions = run_multiple_agents(agents=agents, n_runs=n_runs, kbandit=kbandit, max_steps=max_steps)\n",
    "labels = [agent.__class__.__name__ for agent in agents]\n",
    "suptitle = 'Agents Performances in k-armed-Bandit'\n",
    "title = dict_string(config)\n",
    "\n",
    "action_plot(best_actions, suptitle, title, labels)\n",
    "perf_plot(perfs,  suptitle, title, labels)"
   ]
  },
  {
   "cell_type": "markdown",
   "metadata": {},
   "source": [
    "### <span style=\"color:red\"> **TODO** </span> Please explain your results in a paragraph in this cell.\n",
    "\n",
    "#### Explanation\n",
    "\n",
    "The Random Agent has already been discussed. Everything here performs significantly better than the Random Agent (the reason they are better than the Random Agent is because they are learning and are not choosing actions purely randomly), with the Epsilon-Greedy with Sample Average performing better than the Epsilon-Greedy with Weighted Average (the best action proportion is higher and converges more quickly to its maximum value, and the average reward is slightly higher (at the last timesteps)). One might find this odd. The reason for this, if I am correct, is because we are dealing with a stationary problem here, since our distributions don't change during a run of 1000 steps. Giving more weight to recent rewards, as this is the thought behind the Weighted Average, is not beneficial in this case as opposed to using an averaging method. Both reach an average reward around 1.3.\n",
    "\n",
    "Among the Greedy Agents, the Epsilon-Greedy with Weighted Average is the worst, followed by Epsilon-Greedy with Sample Average. Next, Optimistic Greedy (with eps=0) performs similarly to UCB and Gradient Bandit. The Gradient Bandit (where we consider learning a numerical preference for each action, using also the softmax function), maybe contrary to intuition, performs evenly or slightly worse than UCB and Optimistic Greedy. It learns quicker than the two EpsGreedy agents, making its average reward higher. But its best action proportion overall is still lower than UCB and Optimistic Greedy. \n",
    "\n",
    "The UCB agent performs well, as it uses Upper Confidence Bound action selection (selection based on higher optimality potential among the non-greedy actions). It quickly learns to select the best actions and reaches an 80% best action proportion (the rest (excluding Optimistic Greedy) is around 75% with the exception of the Epsilon-Greedy with Weighted Average being considerably lower) pretty fast, resulting in a higher average reward (from early on). This is expectable, since it tries not to just explore too, but do it in kind of a smart way.\n",
    "\n",
    "The Optimistic Greedy agent is close to UCB (its best action proportion lies higher even here). The initial estimates there were set to 1, and considering the use of the normal distribution (so not all too optimistic but an alright amount), this encourages enough exploration for it to give this decent results. \n"
   ]
  }
 ],
 "metadata": {
  "kernelspec": {
   "display_name": "Python 3 (ipykernel)",
   "language": "python",
   "name": "python3"
  },
  "language_info": {
   "codemirror_mode": {
    "name": "ipython",
    "version": 3
   },
   "file_extension": ".py",
   "mimetype": "text/x-python",
   "name": "python",
   "nbconvert_exporter": "python",
   "pygments_lexer": "ipython3",
   "version": "3.10.12"
  }
 },
 "nbformat": 4,
 "nbformat_minor": 2
}
