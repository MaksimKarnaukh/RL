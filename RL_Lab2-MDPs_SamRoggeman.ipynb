{
 "cells": [
  {
   "cell_type": "markdown",
   "metadata": {},
   "source": [
    "**Student Name**:  Sam Roggeman\n",
    "\n",
    "**Student ID**: S0203247"
   ]
  },
  {
   "cell_type": "markdown",
   "metadata": {},
   "source": [
    "# Lab 2: Markov Decision Processes\n",
    "\n",
    "### Instructions: **TODO** tags\n",
    "\n",
    "This lab on MDPs has two parts:\n",
    "1. You will need to formulate written scenarios as MDPs.  For this part, please submit drawings of your MDPs - either decent quality photos of sketches, or (if you're feeling fancy) [beautiful tikz graphs](https://www.mathcha.io/editor) (I recommend using the mathcha editor linked here instead of making tikz plots from LaTeX, unless you *really* know what you're doing)\n",
    "2. In the second half, you will have to implement the MDP from the course. We will use a framework very similar to what we have done before in the Bandits scenario.\n",
    "\n",
    "As usual, please *read* and *run* the notebook chronologically, and fill in the **TODO**s as you encounter them.\n",
    "* <span style=\"color:blue\"> Blue **TODOs** </span> means you have to implement the TODOs in the code.\n",
    "* <span style=\"color:red\"> Red **TODOs** </span> means you have to submit an explanation (of graph/results).\n",
    "\n",
    "At each section, <span style=\"color:green\"> (xx points) </span> indicates the number of points of the entire section (labs are graded out of 10).\n",
    "\n",
    "### Images in notebook cells\n",
    "To attach an image to a notebook cell, you can simply **drag & drop** it in the cell. This will create a link like `![image.png](attachment:image.png)` in the cell where your mouse dropped the image. If you want to **adjust the size** of the image, you can *then* replace the link with `<img src=\"attachment:image.png\" width=\"500\">` and this should generate a plot of required width; simply adjust the `width` parameter then.\n",
    "\n",
    "**If the drag&dropping is acting up** - sometimes it refuses to paste an image (often the 2nd) in a cell. If this happens, you can create a cell below and paste it there. Sorry for the trouble!\n",
    "\n",
    "\n",
    "## 1. <span style=\"color:green\"> (6 points) </span> Markov Decision Process Statements\n",
    "*Course Reminder*: a Markov Decision Process (MDP) is a tuple $M = (\\mathcal{S}, \\mathcal{A}, \\mathcal{R}, \\gamma, p)$ with $\\mathcal{S}$ a set of states, $\\mathcal{A}$ a set of actions, $\\mathcal{R}$ a set of rewards, $\\gamma$ the discount factor, and crucially $p$ the dynamics function $p\\left(s^\\prime,r \\mid s,a \\right)$. An MDP is a mathematical object meant to model non-deterministic decision-making situations.\n",
    "The MDP formalizes the RL framework, by providing the core elements: the sets of states and actions in which our problem takes place, and the dynamics $p$ that define the environment. All that is left to generate a trajectory is the *policy* $\\pi \\left(a \\mid s\\right)$ defining the agent. \n",
    "\n",
    "Below you can visualize the **link between the RL framework (in black) and its mathematical formulation (in green), as well as its implementation (blue).**\n",
    "<img src=\"attachment:agent_env_interactions.gif\" width=\"800\">\n",
    "\n",
    "\n",
    "In this lab, you will have to turn written descriptions of problems into MDPs. Please use the convention below for the drawing of your MDPs:\n",
    "\n",
    "- states as round, white nodes, with the state name inside\n",
    "- actions as small black nodes sprouting from the states, with the action name closeby\n",
    "- transition probability and reward on the edge sprouting from the actions and leading to some other state.\n",
    "<img src=\"attachment:mdp_convention_nobg.png\" width=\"300\">\n",
    "\n",
    "The example below is drawn from the [RL book](http://incompleteideas.net/book/the-book-2nd.html) Chapter 3, page 52, example 3.3; you are encouraged to hop there to understand how to turn a problem statement into an MDP. **Please write actual scalar reward and probability values instead of variable names, unlike in the example below**.\n",
    "<img src=\"attachment:MDP.png\" width=\"500\">\n",
    "Overall, you can always have this kind of graph in mind when we talk about MDPs, even theoretically.  "
   ]
  },
  {
   "cell_type": "markdown",
   "metadata": {},
   "source": [
    "### 1.1. Problem statement: a healthy lifestyle\n",
    "The probabilities and rewards are up to you, but they should be consistent with the problem statement.\n",
    "\n",
    "> You are a healthy, sane person, but with a weak immune system.\n",
    "> Every year, you have some probability to get sick, which lowers if you remember to do a health check. When do do a health check and you stay healthy, you sometimes notice it and are happy about it.\n",
    "> If you are sick, your condition is bad and doing nothing will result in high chances of death, and no chance of recovery whatsoever.\n",
    "> Your doctor prescribes some medicine for you, which - if you remember to take it- has some probability to cure you. However, even then, chances to die remain, although lowered.\n",
    "\n",
    "When designing the MDP, make sure that the optimal behavior is to stay healthy and alive!\n",
    "\n",
    "<span style=\"color:red\"> **TODO** </span>: **Drag & drop** your sketch in this cell below. **Explain** your sketch briefly.\n",
    "<!-- new line --> \n",
    "<br>\n",
    "<img src=\"./images/ex1.1.png\" width=\"500\">\n",
    "<br>\n",
    "When the person is healthy he can either Check Health or Forget to check it. When he does check his health he can still fall sick with a probability of 10% or stay healthy with a probability of 90%, this makes him happy so there is a reward of 1 as stated in the requirements.\n",
    "\n",
    "When he forgets to check his health he has a bigger risk to fall sick, with 25% and with the same logic where he gets happy when he remembers and stays healthy and got happier as a result, there is a penalty of 1 when he did check his health and got sick, this was not in the requirements but merely my logic. The other 75% is allocated to him staying healthy.\n",
    "\n",
    "When he is sick, and takes his medicine: He has a 30% chance to stay sick (not explicitly in the requirements) with a reward of 0, a 50% chance on recovery which makes him happy = reward of 1, the other 20% chance is allocated to when he dies and receives a penalty of 100 (= reward of -100) because dying is bad. \n",
    "\n",
    "When he forgets to take his medicine though, he had a 5% chance to stay sick without a reward or a 95% chance to die with the same penality as before.\n",
    "\n"
   ]
  },
  {
   "cell_type": "markdown",
   "metadata": {},
   "source": [
    "### 1.2. Problem statement: Bowling\n",
    "```\n",
    "          |||\n",
    "          |||\n",
    "          _._\n",
    "        .' ..`.\n",
    "        |     |  <--- ball\n",
    "         `---'          \n",
    "\n",
    "           0\n",
    "          0 0\n",
    "         0 0 0   <--- pins\n",
    "        0 0 0 0\n",
    "```\n",
    "We want to model the game of bowling, but we will need to severely simplify it.\n",
    "The scoring system is quite complex, so let's just say the goal is to hit all the pins in the least tries possible.\n",
    "The player observes the pins and can choose to throw the ball {left, middle, right}, but the transitions are highly stochastic (player's skill and consistency; hard to know the precise outcome of a throw).\n",
    "- What would the states of the environment be?\n",
    "- How many states are there in this environment?\n",
    "Draw a subset of the MDP (stay below 10 states, abstract out the rest), with initial and terminal state, and some possible transitions from all 3 actions from the start state.\n",
    "\n",
    "<br>\n",
    "The states of the environment would represent which pins are still standing, as each pin can be represented with either a 0 or a 1 so in total there are 2^10th states = 1024  states\n",
    "\n",
    "\n",
    "\n",
    "<span style=\"color:red\"> **TODO** </span>: **Drag & drop** your sketch in this cell below. **Answer** the questions and **explain** your sketch briefly.\n",
    "<br>\n",
    "<img src=\"./images/ex1.2.png\" width=\"1500\">\n",
    "<br>\n",
    "\n",
    "The initial state is the state with only 1's aka all the pins are still standing. In my example, when aiming for the middle, the player has a 5% chance to hit all the pins (=strike) and a 10% chance to end up in state s5, 85% to end up in any other state that is not equal to those two represented in the node with only asterisks. This is almost the same as the left and right action but with other states and probabilities. \n",
    "\n",
    "The asterisk state is used to abstract the other 1019 states. This is also why it is not useful to talk about actions and chances when leaving said state. It can be seen as an undefined subgraph containing all missing nodes. it can leave the node once it is in a node that already exists inside the main graph, this can be after passing 0 or more nodes. Note that not each state can be reached from the asterisk state depending on which node it entered from but for the sake of simplicity and readability of the graph (or what is left of it), i decided not to expand it any further.\n",
    "\n",
    "\n",
    "\n",
    "\n"
   ]
  },
  {
   "attachments": {
    "mdp_example.png": {
     "image/png": "[encoded data removed]"
    }
   },
   "cell_type": "markdown",
   "metadata": {},
   "source": [
    "### 1.3. Problem statement: Course's maze\n",
    "In the slides 7 and 8 of the course, we used a same maze as MDP example:\n",
    "<br>\n",
    "![mdp_example.png](attachment:mdp_example.png)\n",
    "\n",
    "**Draw** the corresponding MDP graph for this problem. A few things need to be clarified:\n",
    "\n",
    "- Assume no noise. It would make the plot very messy!\n",
    "- You can use capitals N S E W to shorten the North South East West actions.\n",
    "- The two states indicated `+1` and `-1` are not yet terminal. They both lead to the same state TERMINAL with unique available action EXIT, and the transition yields the indicated rewards. \n",
    "- Assume a small living reward of -0.1 that does not apply for the exit transition.\n",
    "\n",
    "Note that we could also frame this problem with states indicated `+1` and `-1` being terminal; we do not do this for plotting purposes in the following lab. Stay tuned!\n",
    "\n",
    "<br>\n",
    "<img src=\"./images/ex1.3.1.png\" width=\"900\">\n",
    "<br>\n",
    "From each state (= position of the again), generally four actions are available (North, East, South, West). The only exception to this is when the agent is either on the diamond or on the lava where the only available action is exit. \n",
    "\n",
    "When the agent choses to bump into a wall, it will end up in the same position as it was at the start of the acion. \n",
    "\n",
    "Note that I used x,y notation where the start point is located at 0,0 with x increasing when going north and y increasing when going east.\n",
    "\n",
    "<br>\n",
    "<img src=\"./images/ex1.3.2.png?modified=1\" width=\"600\">\n",
    "<br>\n",
    "\n",
    "There are 4 directions available when leaving from start. for east and north, there is a 10% chance to bump into the wall and thus end up in start again, an 80% chance to go to east and north respectively and another 10% chance to go to north and east respectively. \n",
    "\n",
    "When going West or South, there is a 10% (South and West respectivly) + 80% (West and South respectivly) chance to bump into a wall and end up back at start, and another 10% chance to go North or West respectivly. \n",
    "\n",
    "- In addition to the MDP, please **draw** (on the side or on a separate plot) how the **start state** would look if there was `noise=0.2`. As a reminder, the `noise` parameter *in this specific MDP* is the probability that the agent is *not* taking the expected action - e.g. doing west when asked north. In our case, it takes you with equal probability to the two orthogonal states, e.g. when asking North, 10% proba to go East, 10% to go West."
   ]
  },
  {
   "cell_type": "markdown",
   "metadata": {},
   "source": [
    "<span style=\"color:red\"> **TODO** </span>: **Drag & drop** your sketch in this cell below. **Answer** the questions and **explain** your sketch briefly.\n",
    "<img src=\"attachment:your_plot_here.png\" width=\"300\">"
   ]
  },
  {
   "cell_type": "markdown",
   "metadata": {},
   "source": [
    "## 2. <span style=\"color:green\"> (4 points) </span> <span style=\"color:blue\"> **TODO** </span>: MDP Implementation\n",
    "By now, you should have a solid grasp of the intricacies of the MDP. The time has come to implement one!\n",
    "We will implement the MDP from the course (statement 4 above). However, unlike when you had to draw it, we will use `noise=0.2`.\n",
    "\n",
    "There are multiple methods that we want from an MDP. Let's list them:\n",
    "- <span style=\"color:blue\"> **TODO** </span> `get_states`: returns all the possible states of the MDP. In other words, all the inputs that the *agent can observe*.\n",
    "- <span style=\"color:blue\"> **TODO** </span> `get_actions`: given a state, returns all the possible actions from that state.\n",
    "- <span style=\"color:blue\"> **TODO** </span> `p`: the dynamics, for a given state-action input pair. Return all the possible state-reward output pairs, along with the probability for that to happen. \n",
    "- <span style=\"color:blue\"> **TODO** </span> `is_terminal`: given a state, returns whether it is terminal.\n",
    "\n",
    "These methods provide everything we need to know to draw the MDP. However, if we wanted to use it in practice to run an episode - i.e., use the MDP as an *Environment* to interact with, we need a few different methods. The agent needs to start somewhere, in some starting episode sampled from a subset of $\\mathcal{S}$ sometimes called $\\mathcal{S}_0$. Then, we need to sample from the dynamics to output a state and reward given a state and action. We follow the [`OpenAI gym`](https://gym.openai.com/docs/) convention:\n",
    "- <span style=\"color:blue\"> **TODO** </span> `reset`: initializes the environment, outputs a starting state.\n",
    "- <span style=\"color:blue\"> **TODO** </span> `step`: given an action, performs one step in the environment. Formally, samples from the dynamics. For more complex environment like video games however, it is unthinkable to explicitely formulate the dynamics, but it is generally easy to compute a single transition. Outputs the next state, reward, and done signal, i.e. whether we reached a terminal state.\n",
    "\n",
    "Note that these functions need to keep track of where the agent is. Feel free to add what you want to the `__init__` method if needed.\n",
    "\n",
    "*Note: Normally in `gym`, the action space would be defined as `Discrete(5)`, meaning 5 possible actions ranging from 0 to 4, since the strings make no actual sense for the agent. In our environment, we will use actions as strings 'north' 'east' etc. for clarity.*"
   ]
  },
  {
   "cell_type": "code",
   "execution_count": 1,
   "metadata": {
    "ExecuteTime": {
     "end_time": "2024-03-06T19:55:43.368395600Z",
     "start_time": "2024-03-06T19:55:41.974308300Z"
    }
   },
   "outputs": [],
   "source": [
    "import numpy as np\n",
    "import gym\n",
    "from gym import spaces"
   ]
  },
  {
   "cell_type": "code",
   "execution_count": 2,
   "metadata": {
    "ExecuteTime": {
     "end_time": "2024-03-06T19:55:43.405245800Z",
     "start_time": "2024-03-06T19:55:43.394963300Z"
    }
   },
   "outputs": [],
   "source": [
    "class state():\n",
    "    def __init__(self, x, y):\n",
    "        self.x = x\n",
    "        self.y = y\n",
    "    \n",
    "    def __eq__(self, other):\n",
    "        return self.x == other.x and self.y == other.y\n",
    "\n",
    "    def __hash__(self):\n",
    "        return hash((self.x, self.y))\n",
    "\n",
    "    def __str__(self):\n",
    "        return \"({}, {})\".format(self.x, self.y)\n",
    "\n",
    "class CourseEnv(gym.Env):\n",
    "    \"\"\" Gridworld environment from the Course. A 4x3 grid with 2 states in the upper right corner \n",
    "    leading to the terminal state.\n",
    "        \"\"\"\n",
    "    def __init__(self):\n",
    "        self.height = 3\n",
    "        self.width = 4\n",
    "        self.observation_space = spaces.Tuple(( # observations come in (x,y) tuples with x:height, y:width.\n",
    "                spaces.Discrete(self.height),\n",
    "                spaces.Discrete(self.width)\n",
    "                ))\n",
    "        self.actions = ['north', 'east', 'south', 'west', 'exit'] # writing them out for a common convention\n",
    "        self.noise = .2\n",
    "        self.start = (2,0)\n",
    "        self.near_terminals = ((0,3), (1,3)) # state from which there is only the exit action to get to TERMINAL\n",
    "        self.obstacles = [(1,1)]\n",
    "        self.living_reward = -0.1\n",
    "        # You can add elements to this init method if needed.\n",
    "        self.S = self.start\n",
    "        self.lava_state = (1,3)\n",
    "        self.diamond_state = (0,3)\n",
    "\n",
    "    def step(self, action):\n",
    "        \"\"\" Moves the agent according to the input action.\n",
    "        You can either sample from the dynamics, or simply (if it feels easier) code the agent's movement.\n",
    "        \"\"\"\n",
    "        print(\"Executing action {}\".format(action))\n",
    "        if action not in self.available_actions():\n",
    "            return self.S, 0, self.is_terminal(self.S), {}\n",
    "        # sample a new state from the dynamics received from p\n",
    "        dynamics = self.p(self.S, action)\n",
    "        # pick a tuple (state, reward) from the keys based on the chances present in the values of the dict\n",
    "        indx = np.random.choice(len(list(dynamics.keys())),1,p=list(dynamics.values()))\n",
    "        next_state, reward = list(dynamics.keys())[indx[0]]\n",
    "        self.S = next_state\n",
    "        done = self.is_terminal(next_state)\n",
    "        return next_state, reward, done, {} # ignore but keep this last element {}; it is within the gym convention.\n",
    "\n",
    "    def reset(self):\n",
    "        \"\"\" Prepares for a new episode.\"\"\"\n",
    "        self.S = self.start\n",
    "        return self.S\n",
    "    def is_passable(self, state):\n",
    "        if state[0] < 0 or state[0] >= self.height:\n",
    "            return False\n",
    "        if state[1] < 0 or state[1] >= self.width:\n",
    "            return False\n",
    "        return state not in self.obstacles\n",
    "    def get_state(self, state, direction):\n",
    "        new_state: tuple\n",
    "        if direction == 'north':\n",
    "            new_state= state[0] - 1, state[1]\n",
    "        elif direction == 'south':\n",
    "            new_state= state[0] + 1, state[1]\n",
    "        elif direction == 'east':\n",
    "            new_state =state[0], state[1] + 1\n",
    "        elif direction == 'west':\n",
    "            new_state= state[0], state[1] - 1\n",
    "        elif direction == 'exit':\n",
    "            new_state= \"TERMINAL\"\n",
    "        else:\n",
    "            raise ValueError(f\"Invalid direction:{direction}\")\n",
    "        if self.is_passable(new_state):\n",
    "            return new_state\n",
    "        return state\n",
    "    def available_actions(self, state=None):\n",
    "        \"\"\"\n",
    "        List of available actions in the provided state\n",
    "        Parameters\n",
    "        ----------\n",
    "        state: tuple (position), string ('TERMINAL') or None\n",
    "            state from which to provide all actions. If None, use the current environment state.\n",
    "        Returns\n",
    "        -------\n",
    "        ret : list\n",
    "            List of all actions available in the provided state.\n",
    "        \"\"\"\n",
    "        if not state:\n",
    "            state = self.S\n",
    "        if state in self.near_terminals:\n",
    "            return ['exit']\n",
    "        if state == \"TERMINAL\":\n",
    "            return []\n",
    "        actions = self.actions.copy()\n",
    "        actions.remove('exit')\n",
    "        return actions\n",
    "    def p(self, state, action):\n",
    "        \"\"\"\n",
    "        Dynamics function p of the MDP in this state and action.\n",
    "        Parameters\n",
    "        ----------\n",
    "        state: tuple (position) or string ('TERMINAL')\n",
    "            state from which to provide all actions. If the terminal state is provided, raises an error, \n",
    "            as there are no dynamics from the terminal state. \n",
    "        action: string \n",
    "            in list in ['north', 'east', 'south', 'west', 'exit'] with proper state\n",
    "        Returns\n",
    "        -------\n",
    "        ret : dict\n",
    "            dictionary of (next_state, reward) pairs with: corresponding probabilities\n",
    "        \"\"\"\n",
    "        if state == \"TERMINAL\":\n",
    "            raise ValueError(\"No dynamics from the terminal state\")\n",
    "        if action == \"exit\":\n",
    "            reward = 1\n",
    "            if state == self.diamond_state:\n",
    "                reward = 1\n",
    "            elif state == self.lava_state:\n",
    "                reward = -1\n",
    "            return {(\"TERMINAL\", reward): 1}\n",
    "        directions = self.actions[0:4]\n",
    "        # find the index of the action in the directions list\n",
    "        if action not in directions:\n",
    "            return {state: 1}\n",
    "        index = directions.index(action)\n",
    "        p:dict = {}\n",
    "        for offset, prob in [(0,1-self.noise), (1,self.noise/2), (3, self.noise/2)]:\n",
    "            new_state = self.get_state(state, directions[(index+offset)%4]) \n",
    "            # if already in dict\n",
    "            p[(new_state, self.living_reward)] = prob + p[(new_state, self.living_reward)] if (new_state, self.living_reward) in p else prob \n",
    "        return p\n",
    "    def is_terminal(self, state=None):\n",
    "        \"\"\"\n",
    "        Whether the input state is terminal (string 'TERMINAL').\n",
    "        If no input state is provided, use the self.S state (assumes there is an ongoing episode).\n",
    "        Parameters\n",
    "        ----------\n",
    "        state: tuple (position), string ('TERMINAL') or None\n",
    "            state from the environment. If None is provided, use the self.S state. \n",
    "        Returns\n",
    "        -------\n",
    "        ret : bool\n",
    "            Boolean indicating whether the state is terminal.\n",
    "        \"\"\"\n",
    "        if state:\n",
    "            return state == \"TERMINAL\"\n",
    "        return False\n",
    "    \n",
    "    def states(self):\n",
    "        \"\"\"\n",
    "        Set (as a list) of all states of the MDP, i.e. set $\\mathcal{S}$\n",
    "        Returns\n",
    "        -------\n",
    "        ret : list\n",
    "            List of all possible states in the environment.\n",
    "        \"\"\"\n",
    "        states = []\n",
    "        for obs_space in self.observation_space:\n",
    "            if obs_space not in self.obstacles:\n",
    "                states.append(obs_space)\n",
    "        return states\n",
    "\n",
    "        \n",
    "    def render(self):\n",
    "        \"\"\" This method is provided to you. \n",
    "        Use this to plot the current position of an agent in your environment.\n",
    "        \"\"\"\n",
    "        s = np.zeros((self.height, self.width), dtype=int).astype(str)\n",
    "        s[self.start] = 'S'\n",
    "        s[self.obstacles[0]] = 'X'\n",
    "        s[self.near_terminals[0]] = '+'\n",
    "        s[self.near_terminals[1]] = '-'\n",
    "        s[self.S] = '.'\n",
    "        \n",
    "        print(self.S)\n",
    "        print(s)\n",
    "        # you can uncomment the following line when the available_actions method is implemented:\n",
    "        print(\"Available actions: {}\".format(self.available_actions()))\n"
   ]
  },
  {
   "cell_type": "markdown",
   "metadata": {},
   "source": [
    "Let's test the different functions of your MDP. <span style=\"color:red\"> **TODO** </span> **Run** the following cells and check that the outputs make sense."
   ]
  },
  {
   "cell_type": "code",
   "execution_count": 3,
   "metadata": {
    "ExecuteTime": {
     "end_time": "2024-03-06T19:55:43.421306600Z",
     "start_time": "2024-03-06T19:55:43.402244200Z"
    }
   },
   "outputs": [],
   "source": [
    "mdp = CourseEnv()"
   ]
  },
  {
   "cell_type": "code",
   "execution_count": 4,
   "metadata": {
    "ExecuteTime": {
     "end_time": "2024-03-06T19:55:43.438749600Z",
     "start_time": "2024-03-06T19:55:43.413187200Z"
    }
   },
   "outputs": [
    {
     "data": {
      "text/plain": "[Discrete(3), Discrete(4)]"
     },
     "execution_count": 4,
     "metadata": {},
     "output_type": "execute_result"
    }
   ],
   "source": [
    "mdp.states()\n"
   ]
  },
  {
   "cell_type": "code",
   "execution_count": 5,
   "metadata": {
    "ExecuteTime": {
     "end_time": "2024-03-06T19:55:43.501595500Z",
     "start_time": "2024-03-06T19:55:43.425541600Z"
    }
   },
   "outputs": [
    {
     "name": "stdout",
     "output_type": "stream",
     "text": [
      "['north', 'east', 'south', 'west']\n",
      "['exit']\n",
      "[]\n"
     ]
    }
   ],
   "source": [
    "print(mdp.available_actions((0,0)))\n",
    "print(mdp.available_actions((0,3)))\n",
    "print(mdp.available_actions('TERMINAL'))"
   ]
  },
  {
   "cell_type": "code",
   "execution_count": 6,
   "metadata": {
    "ExecuteTime": {
     "end_time": "2024-03-06T19:55:43.505592800Z",
     "start_time": "2024-03-06T19:55:43.436533900Z"
    }
   },
   "outputs": [
    {
     "name": "stdout",
     "output_type": "stream",
     "text": [
      "{((0, 0), -0.1): 0.9, ((0, 1), -0.1): 0.1}\n"
     ]
    }
   ],
   "source": [
    "res = mdp.p((0,0), 'north')\n",
    "print(res)"
   ]
  },
  {
   "cell_type": "code",
   "execution_count": 7,
   "metadata": {
    "ExecuteTime": {
     "end_time": "2024-03-06T19:55:43.505592800Z",
     "start_time": "2024-03-06T19:55:43.447180Z"
    }
   },
   "outputs": [
    {
     "name": "stdout",
     "output_type": "stream",
     "text": [
      "False\n",
      "False\n",
      "True\n"
     ]
    }
   ],
   "source": [
    "print(mdp.is_terminal((0,0)))\n",
    "print(mdp.is_terminal((0,3)))\n",
    "print(mdp.is_terminal('TERMINAL'))"
   ]
  },
  {
   "cell_type": "markdown",
   "metadata": {},
   "source": [
    "Now play your environment! <span style=\"color:red\"> **TODO** </span> Please submit your notebook with an episode that shows **a successful trajectory** (reaching the positive reward) **and the existence of the obstacle** (the agent cannot step on it)."
   ]
  },
  {
   "cell_type": "code",
   "execution_count": 8,
   "metadata": {
    "ExecuteTime": {
     "end_time": "2024-03-06T19:58:25.921196900Z",
     "start_time": "2024-03-06T19:55:43.453734800Z"
    }
   },
   "outputs": [
    {
     "name": "stdout",
     "output_type": "stream",
     "text": [
      "(2, 0)\n",
      "[['0' '0' '0' '+']\n",
      " ['0' 'X' '0' '-']\n",
      " ['.' '0' '0' '0']]\n",
      "Available actions: ['north', 'east', 'south', 'west']\n",
      "Executing action west\n",
      "(2, 0)\n",
      "[['0' '0' '0' '+']\n",
      " ['0' 'X' '0' '-']\n",
      " ['.' '0' '0' '0']]\n",
      "Available actions: ['north', 'east', 'south', 'west']\n",
      "Executing action \n",
      "(2, 0)\n",
      "[['0' '0' '0' '+']\n",
      " ['0' 'X' '0' '-']\n",
      " ['.' '0' '0' '0']]\n",
      "Available actions: ['north', 'east', 'south', 'west']\n",
      "Executing action \n",
      "(2, 0)\n",
      "[['0' '0' '0' '+']\n",
      " ['0' 'X' '0' '-']\n",
      " ['.' '0' '0' '0']]\n",
      "Available actions: ['north', 'east', 'south', 'west']\n",
      "Executing action \n",
      "(2, 0)\n",
      "[['0' '0' '0' '+']\n",
      " ['0' 'X' '0' '-']\n",
      " ['.' '0' '0' '0']]\n",
      "Available actions: ['north', 'east', 'south', 'west']\n",
      "Executing action north\n",
      "(1, 0)\n",
      "[['0' '0' '0' '+']\n",
      " ['.' 'X' '0' '-']\n",
      " ['S' '0' '0' '0']]\n",
      "Available actions: ['north', 'east', 'south', 'west']\n",
      "Executing action north\n",
      "(0, 0)\n",
      "[['.' '0' '0' '+']\n",
      " ['0' 'X' '0' '-']\n",
      " ['S' '0' '0' '0']]\n",
      "Available actions: ['north', 'east', 'south', 'west']\n",
      "Executing action east\n",
      "(0, 1)\n",
      "[['0' '.' '0' '+']\n",
      " ['0' 'X' '0' '-']\n",
      " ['S' '0' '0' '0']]\n",
      "Available actions: ['north', 'east', 'south', 'west']\n",
      "Executing action easst\n",
      "(0, 1)\n",
      "[['0' '.' '0' '+']\n",
      " ['0' 'X' '0' '-']\n",
      " ['S' '0' '0' '0']]\n",
      "Available actions: ['north', 'east', 'south', 'west']\n",
      "Executing action east\n",
      "(0, 1)\n",
      "[['0' '.' '0' '+']\n",
      " ['0' 'X' '0' '-']\n",
      " ['S' '0' '0' '0']]\n",
      "Available actions: ['north', 'east', 'south', 'west']\n",
      "Executing action east\n",
      "(0, 1)\n",
      "[['0' '.' '0' '+']\n",
      " ['0' 'X' '0' '-']\n",
      " ['S' '0' '0' '0']]\n",
      "Available actions: ['north', 'east', 'south', 'west']\n",
      "Executing action exit\n",
      "(0, 1)\n",
      "[['0' '.' '0' '+']\n",
      " ['0' 'X' '0' '-']\n",
      " ['S' '0' '0' '0']]\n",
      "Available actions: ['north', 'east', 'south', 'west']\n",
      "Executing action east\n",
      "(0, 1)\n",
      "[['0' '.' '0' '+']\n",
      " ['0' 'X' '0' '-']\n",
      " ['S' '0' '0' '0']]\n",
      "Available actions: ['north', 'east', 'south', 'west']\n",
      "Executing action north\n",
      "(0, 2)\n",
      "[['0' '0' '.' '+']\n",
      " ['0' 'X' '0' '-']\n",
      " ['S' '0' '0' '0']]\n",
      "Available actions: ['north', 'east', 'south', 'west']\n",
      "Executing action exit\n",
      "(0, 2)\n",
      "[['0' '0' '.' '+']\n",
      " ['0' 'X' '0' '-']\n",
      " ['S' '0' '0' '0']]\n",
      "Available actions: ['north', 'east', 'south', 'west']\n",
      "Executing action north\n",
      "(0, 2)\n",
      "[['0' '0' '.' '+']\n",
      " ['0' 'X' '0' '-']\n",
      " ['S' '0' '0' '0']]\n",
      "Available actions: ['north', 'east', 'south', 'west']\n",
      "Executing action north\n",
      "(0, 2)\n",
      "[['0' '0' '.' '+']\n",
      " ['0' 'X' '0' '-']\n",
      " ['S' '0' '0' '0']]\n",
      "Available actions: ['north', 'east', 'south', 'west']\n",
      "Executing action east\n",
      "(0, 3)\n",
      "[['0' '0' '0' '.']\n",
      " ['0' 'X' '0' '-']\n",
      " ['S' '0' '0' '0']]\n",
      "Available actions: ['exit']\n",
      "Executing action exit\n",
      "Done in 18 steps with total reward -0.09999999999999987\n"
     ]
    }
   ],
   "source": [
    "env = mdp\n",
    "state = env.reset()\n",
    "total_r = 0\n",
    "steps = 0\n",
    "while True:\n",
    "    env.render()\n",
    "    action = input(\"Please input an action: \")\n",
    "    state, reward, done, info = env.step(action)\n",
    "    total_r += reward\n",
    "    steps += 1\n",
    "    if done:\n",
    "        break\n",
    "\n",
    "print(\"Done in {} steps with total reward {}\".format(steps, total_r))"
   ]
  },
  {
   "cell_type": "code",
   "execution_count": 8,
   "metadata": {
    "ExecuteTime": {
     "end_time": "2024-03-06T19:58:25.922198800Z",
     "start_time": "2024-03-06T19:58:25.897833Z"
    }
   },
   "outputs": [],
   "source": []
  }
 ],
 "metadata": {
  "kernelspec": {
   "display_name": "Python 3",
   "language": "python",
   "name": "python3"
  },
  "language_info": {
   "codemirror_mode": {
    "name": "ipython",
    "version": 3
   },
   "file_extension": ".py",
   "mimetype": "text/x-python",
   "name": "python",
   "nbconvert_exporter": "python",
   "pygments_lexer": "ipython3",
   "version": "3.8.10"
  }
 },
 "nbformat": 4,
 "nbformat_minor": 2
}
