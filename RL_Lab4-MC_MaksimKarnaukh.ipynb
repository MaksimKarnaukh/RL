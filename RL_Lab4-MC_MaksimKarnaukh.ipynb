{
 "cells": [
  {
   "cell_type": "markdown",
   "metadata": {},
   "source": [
    "**Student Name**: Maksim Karnaukh\n",
    "\n",
    "**Student ID**: 20201604"
   ]
  },
  {
   "cell_type": "markdown",
   "metadata": {},
   "source": [
    "# Lab 4: Monte Carlo Methods\n",
    "\n",
    "### Instructions: **TODO** tags\n",
    "In this lab, you will implement Monte Carlo methods. In particular, there will be 3 main steps:\n",
    "1. **Policy Evaluation**: provided an arbitrary policy $\\pi$, compute its value function $v_\\pi$ using MC. You will be asked to compare your results to the exact solution you will find with Dynamic Programming.\n",
    "2. **On-Policy MC Control**: implement MC to find an optimal soft policy, using an $\\epsilon$-greedy policy.\n",
    "3. **Off-Policy MC Control**: same idea using an $\\epsilon$-greedy behavior policy and learning the optimal policy.\n",
    "\n",
    "As usual, please *read* and *run* the notebook chronologically, and fill in the **TODO**s as you encounter them.\n",
    "* <span style=\"color:blue\"> Blue **TODOs** </span> means you have to implement the TODOs in the code.\n",
    "* <span style=\"color:red\"> Red **TODOs** </span> means you have to submit an explanation (of graph/results/theory).\n",
    "\n",
    "At each section, <span style=\"color:green\"> (xx points) </span> indicates the number of points of the entire section (labs are graded out of 10).\n",
    "\n",
    "\n",
    "### Environment\n",
    "Below are the libraries we will use and the Environment.\n",
    "\n",
    "The Environment for this lab and the next lab on tabular RL is called the **Four Rooms** Environment. It simply contains 4 rooms of fixed size $5\\times5$ in our case- in which the agent can move around, as in a house. There is no noise in the dynamics, meaning that the 4 directional actions deterministically take you to the requested neighboring state. Unless stated otherwise, the agent starts from the upper left corner. It will always have to reach the terminal state in the lower right corner to get a sparse reward of $+1$; any other transition gives reward $0$. A visualization will follow."
   ]
  },
  {
   "cell_type": "code",
   "execution_count": 79,
   "metadata": {
    "ExecuteTime": {
     "end_time": "2024-03-14T18:23:29.156047300Z",
     "start_time": "2024-03-14T18:23:29.071712400Z"
    }
   },
   "outputs": [],
   "source": [
    "# -*- coding: utf-8 -*-\n",
    "from __future__ import unicode_literals\n",
    "import numpy as np\n",
    "import gym\n",
    "from gym import spaces\n",
    "import matplotlib\n",
    "import matplotlib.pyplot as plt\n",
    "import matplotlib.colors as clr\n",
    "from matplotlib import cm\n",
    "import random\n",
    "from copy import copy\n",
    "import copy"
   ]
  },
  {
   "cell_type": "code",
   "execution_count": 80,
   "metadata": {
    "ExecuteTime": {
     "end_time": "2024-03-14T18:23:29.217124500Z",
     "start_time": "2024-03-14T18:23:29.170009700Z"
    }
   },
   "outputs": [],
   "source": [
    "class FourRoomsEnv(gym.Env):\n",
    "    \"\"\" \n",
    "    Small Gridworld environment with 4 rooms.\n",
    "    Starting up left, goal in lower-right.\n",
    "    The main challenge is that the reward is sparse (1_goal)\n",
    "    \"\"\"\n",
    "    def __init__(self, explo_starts=False, max_steps=None):\n",
    "        self.roomsize = 5\n",
    "        self.height = 2*self.roomsize +1 # +1 is obstacle width\n",
    "        self.width = self.height\n",
    "        half = self.width // 2 # shortcut\n",
    "        quarter = half // 2 # shortcut\n",
    "        self.gamma = 0.9\n",
    "        self.t = 0\n",
    "        self.max_steps = max_steps\n",
    "        self.explo_starts = explo_starts\n",
    "        self.action_space = spaces.Discrete(4)\n",
    "        self.observation_space = spaces.Tuple((\n",
    "                spaces.Discrete(self.height),\n",
    "                spaces.Discrete(self.width)\n",
    "                ))\n",
    "        self.shapes = ((11,11), 4)\n",
    "\n",
    "        self.moves = {\n",
    "                0: (-1, 0),  # up\n",
    "                1: (0, 1),   # right\n",
    "                2: (1, 0),   # down\n",
    "                3: (0, -1),  # left\n",
    "                }\n",
    "        self.moves_to_str = {\n",
    "                0: u'↑',\n",
    "                1: u'→',\n",
    "                2: u'↓',\n",
    "                3: u'←',\n",
    "                }\n",
    "        \n",
    "        self.terminal = (self.height-1,self.width-1) # terminal state\n",
    "        horizontal  = [(i, half) for i in range(self.width)]\n",
    "        vertical    = [(half, i) for i in range(self.height)]\n",
    "        self.obstacles = horizontal + vertical\n",
    "        # now opening the 4 passages\n",
    "        for state in [(quarter,half), (half,quarter), (half,self.height-quarter), (self.height-quarter,half)]:\n",
    "            self.obstacles.remove(state)\n",
    "        self.start = (0,0)\n",
    "        self.s = None\n",
    "        # begin in start state\n",
    "        self.reset()\n",
    "\n",
    "    def reset(self):\n",
    "        if self.max_steps is not None:\n",
    "            self.t = 0\n",
    "        if self.explo_starts:\n",
    "            while True:\n",
    "                s = self.observation_space.sample()\n",
    "                if s not in self.obstacles + [self.terminal]:\n",
    "                    break\n",
    "            self.s = s\n",
    "            #print(\"Random Start at S={}\".format(s))\n",
    "                \n",
    "        else:\n",
    "            self.s = self.start\n",
    "        return self.s\n",
    "\n",
    "    def step(self, action):\n",
    "        \"\"\" Moves the agent in the action direction.\"\"\"\n",
    "        # Next, moving according to action\n",
    "        x, y = self.moves[action]\n",
    "        if (self.s[0]+x, self.s[1]+y) not in self.obstacles:\n",
    "            # move is allowed\n",
    "            self.s = self.s[0] + x, self.s[1] + y\n",
    "\n",
    "            # Finally, setting the agent back into the grid if fallen out\n",
    "            self.s = (max(0, self.s[0]), max(0, self.s[1]))\n",
    "            self.s = (min(self.s[0], self.height - 1),\n",
    "                      min(self.s[1], self.width - 1))\n",
    "\n",
    "        self.t += 1\n",
    "        done_goal = (self.s == self.terminal)\n",
    "        done = done_goal\n",
    "        if self.max_steps is not None and self.t == self.max_steps:\n",
    "            done = True\n",
    "            self.t = 0\n",
    "        return self.s, int(done_goal), done, {}\n",
    "    \n",
    "    def is_terminal(self, state):\n",
    "        return state == self.terminal\n",
    "    \n",
    "    def p(self, state, action):\n",
    "        assert not self.is_terminal(state)\n",
    "        self.s = state\n",
    "        next_state, reward, done, info = self.step(action)\n",
    "        return {(next_state, reward): 1}\n",
    "    \n",
    "    def states(self):\n",
    "        ss = []\n",
    "        for i in range(self.height):\n",
    "            for j in range(self.width):\n",
    "                if (i,j) not in self.obstacles:\n",
    "                    ss.append((i,j))\n",
    "        return ss \n",
    "    \n",
    "    def plot_values_policy(self, values, policy, plot_all_policy=False, cbar=True):\n",
    "        \"\"\" Visualizes a policy and value function given an agent with V and policy.\"\"\"\n",
    "        fig, ax = plt.subplots()\n",
    "        values[tuple(zip(*self.obstacles))] = None # -1\n",
    "        cmap = copy.copy(cm.get_cmap(\"RdYlGn\"))\n",
    "        # modify colormap\n",
    "        l = np.array([cmap(i) for i in range(cmap.N)]).T\n",
    "        l[0:2] = np.clip(l[0:2], 0,0.9)\n",
    "        l[2] = np.clip(l[2], 0,0.25)\n",
    "        l = l.T\n",
    "        my_cmap = matplotlib.colors.ListedColormap(l, name = 'nani')\n",
    "        my_cmap.set_bad('black')\n",
    "\n",
    "        im = ax.imshow(values, cmap=my_cmap)\n",
    "        for i in range(self.height):\n",
    "            for j in range(self.width):\n",
    "                s = (i,j)\n",
    "                if s not in self.obstacles:\n",
    "                    t = self.moves_to_str[policy[s]] if not self.is_terminal(s) \\\n",
    "                                                        and ((values[s] != 0) or (plot_all_policy)) else \"\"\n",
    "                    text = ax.text(j, i, t,\n",
    "                                   ha=\"center\", va=\"center\", color=\"w\", fontsize=15)\n",
    "\n",
    "        ax.set_title(\"Value function and Policy visualization\")\n",
    "        fig.tight_layout()\n",
    "        if cbar:\n",
    "            plt.colorbar(im)\n",
    "        plt.show()"
   ]
  },
  {
   "cell_type": "markdown",
   "metadata": {},
   "source": [
    "## 1. <span style=\"color:green\"> (5 points) </span>  Policy Evaluation\n",
    "\n",
    "### 1.1 Defining and visualizing the policy\n",
    "Let's define and visualize an arbitrary *deterministic* policy $\\pi$. We're picking a deterministic policy for ease of visualization and understanding of the learning process. \n",
    "\n",
    "Since we know we only need to go south and east to solve the task, let's use a policy that only picks between these two. We're plotting in green the terminal state we want to reach; later, the colors will correspond to state values. The dark squares correspond to walls."
   ]
  },
  {
   "cell_type": "code",
   "execution_count": 81,
   "metadata": {
    "ExecuteTime": {
     "end_time": "2024-03-14T18:23:29.770374700Z",
     "start_time": "2024-03-14T18:23:29.194186600Z"
    }
   },
   "outputs": [
    {
     "name": "stderr",
     "output_type": "stream",
     "text": [
      "C:\\Users\\Maksim Karnaukh\\AppData\\Local\\Temp\\ipykernel_24860\\1488503520.py:106: MatplotlibDeprecationWarning: The get_cmap function was deprecated in Matplotlib 3.7 and will be removed two minor releases later. Use ``matplotlib.colormaps[name]`` or ``matplotlib.colormaps.get_cmap(obj)`` instead.\n",
      "  cmap = copy.copy(cm.get_cmap(\"RdYlGn\"))\n"
     ]
    },
    {
     "data": {
      "text/plain": "<Figure size 640x480 with 1 Axes>",
      "image/png": "[encoded data removed]"
     },
     "metadata": {},
     "output_type": "display_data"
    }
   ],
   "source": [
    "# Defining the environment\n",
    "np.random.seed(54)\n",
    "env = FourRoomsEnv()\n",
    "# Defining the policy\n",
    "pi = {s:np.random.choice([1,2]) for s in env.states()}\n",
    "# Visualizing the environment and policy\n",
    "zero_values = np.zeros(env.shapes[0])\n",
    "zero_values[env.terminal] = 1\n",
    "env.plot_values_policy(zero_values, pi, plot_all_policy = True, cbar=False)\n",
    "np.random.seed(None)"
   ]
  },
  {
   "cell_type": "markdown",
   "metadata": {},
   "source": [
    "### 1.2. <span style=\"color:blue\"> **TODO** </span> DP Policy Evaluation\n",
    "We want to evaluate $v_\\pi$ for this policy. Note that we could also compute $q_\\pi$, it doesn't really matter if we're not looking to extend to control!\n",
    "\n",
    "We will first use what we know works, i.e., **Dynamic Programming**'s Policy Evaluation, then implement Monte Carlo to compare the results.\n",
    "\n",
    "- <span style=\"color:blue\"> **TODOs** </span>: Implement **DP_PolicyEvaluation**. This will be similar to the Policy and Value Iteration agents from the previous lab, we're providing an MDP as input and implement a `run` method to compute the values. Instead of a dictionary as before, we will now use a **numpy array** to store the $v$ and $q$ from now on, as it is more efficient, more fit for this environment, and easier to visualize. The policy $\\pi$ is a dictionary here, but it makes little practical difference. You can use an In-Place algo, or not, however you want."
   ]
  },
  {
   "cell_type": "code",
   "execution_count": 82,
   "metadata": {
    "ExecuteTime": {
     "end_time": "2024-03-14T18:23:29.781349200Z",
     "start_time": "2024-03-14T18:23:29.767383700Z"
    }
   },
   "outputs": [],
   "source": [
    "class DP_PolicyEvaluation():\n",
    "    def __init__(self, mdp):\n",
    "        self.mdp = mdp\n",
    "        self.gamma = self.mdp.gamma\n",
    "        self.V = np.zeros(self.mdp.shapes[0])\n",
    "        \n",
    "    def inf_norm(self, v1, v2):\n",
    "        # v1 and v2 are 2d numpy arrays\n",
    "        return np.max(np.abs(v1 - v2))\n",
    "        \n",
    "    def run(self, pi, delta):\n",
    "        \"\"\" Runs Policy evaluation for a given policy. \n",
    "        No returns expected, but use the self.V array to store your values so we can plot it.\n",
    "        Parameters\n",
    "        ----------\n",
    "        pi: dict\n",
    "            Policy to Evaluate. Comes as a dictionary of state:action keys.\n",
    "        delta: float\n",
    "            Precision at which Policy Evaluation should be stopped.\n",
    "        \"\"\"\n",
    "        # DONE: Implement the run method.\n",
    "        non_terminal_states = [s for s in self.mdp.states() if not self.mdp.is_terminal(s)]\n",
    "        previous_V = copy.deepcopy(self.V)\n",
    "        while True:\n",
    "            for s in non_terminal_states:\n",
    "                self.V[s] = sum([p * (r + self.gamma * self.V[s_]) for (s_, r), p in self.mdp.p(s, pi[s]).items()])\n",
    "            if self.inf_norm(self.V, previous_V) < delta:\n",
    "                break\n",
    "            previous_V = copy.deepcopy(self.V)\n",
    "                            "
   ]
  },
  {
   "cell_type": "markdown",
   "metadata": {},
   "source": [
    "Let's run the Policy Evaluation and visualize the estimated values of $\\pi$:"
   ]
  },
  {
   "cell_type": "code",
   "execution_count": 83,
   "metadata": {
    "ExecuteTime": {
     "end_time": "2024-03-14T18:23:30.232927500Z",
     "start_time": "2024-03-14T18:23:29.776363800Z"
    }
   },
   "outputs": [
    {
     "name": "stderr",
     "output_type": "stream",
     "text": [
      "C:\\Users\\Maksim Karnaukh\\AppData\\Local\\Temp\\ipykernel_24860\\1488503520.py:106: MatplotlibDeprecationWarning: The get_cmap function was deprecated in Matplotlib 3.7 and will be removed two minor releases later. Use ``matplotlib.colormaps[name]`` or ``matplotlib.colormaps.get_cmap(obj)`` instead.\n",
      "  cmap = copy.copy(cm.get_cmap(\"RdYlGn\"))\n"
     ]
    },
    {
     "data": {
      "text/plain": "<Figure size 640x480 with 2 Axes>",
      "image/png": "[encoded data removed]"
     },
     "metadata": {},
     "output_type": "display_data"
    }
   ],
   "source": [
    "agent_dp = DP_PolicyEvaluation(env)\n",
    "agent_dp.run(pi, delta=1e-3)\n",
    "env.plot_values_policy(agent_dp.V, pi, plot_all_policy = True)"
   ]
  },
  {
   "cell_type": "markdown",
   "metadata": {},
   "source": [
    "<span style=\"color:red\"> **TODO** </span>: Shortly **comment** your result.\n",
    "\n",
    "(your answer here)"
   ]
  },
  {
   "cell_type": "markdown",
   "metadata": {},
   "source": [
    "### 1.2.  <span style=\"color:blue\"> **TODO** </span> Monte Carlo Policy Evaluation\n",
    "\n",
    "We will now find $v_\\pi$ simply by interacting with the environment, using MC. We will need a different `argmax` function from the one in the `numpy` library, because it always returns the first occurence of the max, while we need a random choice of the occurences. "
   ]
  },
  {
   "cell_type": "code",
   "execution_count": 84,
   "metadata": {
    "ExecuteTime": {
     "end_time": "2024-03-14T18:23:30.233925200Z",
     "start_time": "2024-03-14T18:23:30.225945700Z"
    }
   },
   "outputs": [],
   "source": [
    "# Nothing to do in this cell.\n",
    "def allmax(a):\n",
    "    \"\"\" Returns all occurences of the max \"\"\"\n",
    "    if len(a) == 0:\n",
    "        return []\n",
    "    all_ = [0]\n",
    "    max_ = a[0]\n",
    "    for i in range(1, len(a)):\n",
    "        if a[i] > max_:\n",
    "            all_ = [i]\n",
    "            max_ = a[i]\n",
    "        elif a[i] == max_:\n",
    "            all_.append(i)\n",
    "    return all_\n",
    "\n",
    "def my_argmax(v):\n",
    "    \"\"\" Breaks ties randomly. \"\"\"\n",
    "    return random.choice(allmax(v))"
   ]
  },
  {
   "cell_type": "markdown",
   "metadata": {},
   "source": [
    "From here on, we are shifting from the Dynamic Programming framework to the more general Reinforcement Learning framework of **Agent-Environment interactions**. Our abstraction for such agents is that they need to be able to `act` given a state, i.e., sample from their policy; and `learn` given a transition $\\left(s,a,r,s^\\prime\\right)$. For practical purposes, we also need to `reset` the agent to $0$ learning, getting ready for another round of learning; similar to the Environment's `reset` method, getting ready for a new episode.\n",
    "\n",
    "- <span style=\"color:red\"> **TODO** </span>: **Remind** why MC Policy Evaluation should converge? <br/> (your answer here)\n",
    "- <span style=\"color:blue\"> **TODO** </span>: **Implement** MC Policy Evaluation provided the policy $\\pi$ we have already evaluated. The policy is now given to the agent as we build it (in `__init__`), since we want the agent to interact using it. Please use `self.V` to store your state value estimates."
   ]
  },
  {
   "cell_type": "code",
   "execution_count": 85,
   "metadata": {
    "ExecuteTime": {
     "end_time": "2024-03-14T18:23:30.247553100Z",
     "start_time": "2024-03-14T18:23:30.237915900Z"
    }
   },
   "outputs": [],
   "source": [
    "class MonteCarloPolicyEval():\n",
    "    \"\"\" Given a policy, uses that policy to act in the environment.\n",
    "    Learns its V value.\n",
    "    \"\"\"\n",
    "    def __init__(self, env_shapes, pi, epsilon=0.1, gamma=0.9, **kwargs):\n",
    "        if env_shapes is not None: # otherwise, bandits\n",
    "            self.input_shape, self.n_actions = env_shapes\n",
    "\n",
    "        self.gamma = gamma\n",
    "        self.epsilon = epsilon\n",
    "        self.V = np.zeros(self.input_shape) # Array of value estimates.\n",
    "        self.pi = pi\n",
    "        # You can add or remove things in here, if needed\n",
    "        \n",
    "    def reset(self):\n",
    "        \"\"\" \n",
    "        Reset method of your Agent. No inputs, no returns.\n",
    "        \"\"\"\n",
    "        # TODO: Reset your agent. \n",
    "        raise NotImplementedError(\"MonteCarloPolicyEval reset method\")\n",
    "\n",
    "    def act(self, s):\n",
    "        \"\"\" Action in the environment, i.e. sample from our policy.\n",
    "        Parameters\n",
    "        ----------\n",
    "        s: tuple\n",
    "            State from which to give out an action\n",
    "        Returns\n",
    "        -------\n",
    "        action : int\n",
    "            Action to perform in the env\n",
    "        \"\"\"\n",
    "        # TODO: act\n",
    "        raise NotImplementedError(\"MonteCarloPolicyEval act method\")\n",
    "        \n",
    "    def learn(self, s, a, r, s_, d=False):\n",
    "        \"\"\" MC learning the policy value from a transition. \n",
    "        Parameters\n",
    "        ----------\n",
    "        s, a, r, s_, d: tuple, int, float, tuple, bool\n",
    "            Transition in the environment.\n",
    "            From state s, taking action a, obtaining reward r and ending up in state s_\n",
    "            d is the done signal, indicating if s_ is terminal.\n",
    "        \"\"\"\n",
    "        # TODO: implement the learning of the MonteCarloPolicyEval agent\n",
    "        raise NotImplementedError(\"MonteCarloPolicyEval act method\")"
   ]
  },
  {
   "cell_type": "markdown",
   "metadata": {},
   "source": [
    "Now we can implement our first true learning loop! Using the [gym](https://gym.openai.com/) framework again for agent-env interactions, here's how we expect a learning loop to look like for a single episode:\n",
    "```\n",
    "state = env.reset()\n",
    "while True:\n",
    "  action = agent.act()\n",
    "  next_state, reward, done, info = env.step(action)\n",
    "  agent.learn(state, action, reward, next_state, done)\n",
    "\n",
    "  if done:\n",
    "    break\n",
    "env.close()\n",
    "```\n",
    "\n",
    "This is what is implemented below, with a bit more to plot things out."
   ]
  },
  {
   "cell_type": "code",
   "execution_count": 86,
   "metadata": {
    "ExecuteTime": {
     "end_time": "2024-03-14T18:23:30.306089200Z",
     "start_time": "2024-03-14T18:23:30.245558900Z"
    }
   },
   "outputs": [],
   "source": [
    "# Learning and visualization. Nothing to do here.\n",
    "def learn_v_pi(agent, env, n_episodes):\n",
    "    evaluations_history = []\n",
    "    agent.reset()\n",
    "    first = True\n",
    "    # Training phase\n",
    "    for ep in range(n_episodes):\n",
    "        s = env.reset()\n",
    "        while True: # step limit implemented in Env\n",
    "            action = agent.act(s) # must be = pi[s]\n",
    "            s_, reward, done, info = env.step(action)\n",
    "            agent.learn(s, action, reward, s_, done)\n",
    "            if done:\n",
    "                break\n",
    "            s = s_\n",
    "        if first and np.any(agent.V != 0):\n",
    "            print(\"V visualization after the first rewarding episode observed - episode {}:\".format(ep))\n",
    "            env.plot_values_policy(agent.V, agent.pi, plot_all_policy=True)\n",
    "            first = False\n",
    "        if not first and not ep % 200:\n",
    "            print(\"V visualization after episode {}:\".format(ep))\n",
    "            env.plot_values_policy(agent.V, agent.pi, plot_all_policy=True)\n",
    "        \n",
    "    print(\"Final V visualization: \")\n",
    "    env.plot_values_policy(agent.V, agent.pi, plot_all_policy=True)\n",
    "    env.close()"
   ]
  },
  {
   "cell_type": "markdown",
   "metadata": {},
   "source": [
    "Since we chose a deterministic policy, we actually only need Exploring Starts to go over every single state once in order to get a perfect estimate. However, we will proceed as if $\\pi$ was not deterministic, and without assuming control over the initial states - we know they are random, but no more.\n",
    "\n",
    "We need all states to be sampled. Since there are around $100$ non-terminal states, we can be sure that all will most likely have been selected once if we run $1000$ episodes."
   ]
  },
  {
   "cell_type": "code",
   "execution_count": 87,
   "metadata": {
    "ExecuteTime": {
     "end_time": "2024-03-14T18:23:30.344985500Z",
     "start_time": "2024-03-14T18:23:30.259215100Z"
    }
   },
   "outputs": [
    {
     "ename": "NotImplementedError",
     "evalue": "MonteCarloPolicyEval reset method",
     "output_type": "error",
     "traceback": [
      "\u001B[1;31m---------------------------------------------------------------------------\u001B[0m",
      "\u001B[1;31mNotImplementedError\u001B[0m                       Traceback (most recent call last)",
      "Cell \u001B[1;32mIn[87], line 10\u001B[0m\n\u001B[0;32m      3\u001B[0m d \u001B[38;5;241m=\u001B[39m {\n\u001B[0;32m      4\u001B[0m     \u001B[38;5;124m'\u001B[39m\u001B[38;5;124menv_shapes\u001B[39m\u001B[38;5;124m'\u001B[39m: shapes,\n\u001B[0;32m      5\u001B[0m     \u001B[38;5;124m'\u001B[39m\u001B[38;5;124mepsilon\u001B[39m\u001B[38;5;124m'\u001B[39m: \u001B[38;5;241m0.2\u001B[39m,\n\u001B[0;32m      6\u001B[0m     \u001B[38;5;124m'\u001B[39m\u001B[38;5;124mgamma\u001B[39m\u001B[38;5;124m'\u001B[39m: env\u001B[38;5;241m.\u001B[39mgamma,\n\u001B[0;32m      7\u001B[0m     \u001B[38;5;124m'\u001B[39m\u001B[38;5;124mpi\u001B[39m\u001B[38;5;124m'\u001B[39m : pi\n\u001B[0;32m      8\u001B[0m }\n\u001B[0;32m      9\u001B[0m agent_mc \u001B[38;5;241m=\u001B[39m MonteCarloPolicyEval(\u001B[38;5;241m*\u001B[39m\u001B[38;5;241m*\u001B[39md)\n\u001B[1;32m---> 10\u001B[0m \u001B[43mlearn_v_pi\u001B[49m\u001B[43m(\u001B[49m\u001B[43magent_mc\u001B[49m\u001B[43m,\u001B[49m\u001B[43m \u001B[49m\u001B[43menv\u001B[49m\u001B[43m,\u001B[49m\u001B[43m \u001B[49m\u001B[38;5;241;43m1000\u001B[39;49m\u001B[43m)\u001B[49m\n",
      "Cell \u001B[1;32mIn[86], line 4\u001B[0m, in \u001B[0;36mlearn_v_pi\u001B[1;34m(agent, env, n_episodes)\u001B[0m\n\u001B[0;32m      2\u001B[0m \u001B[38;5;28;01mdef\u001B[39;00m \u001B[38;5;21mlearn_v_pi\u001B[39m(agent, env, n_episodes):\n\u001B[0;32m      3\u001B[0m     evaluations_history \u001B[38;5;241m=\u001B[39m []\n\u001B[1;32m----> 4\u001B[0m     \u001B[43magent\u001B[49m\u001B[38;5;241;43m.\u001B[39;49m\u001B[43mreset\u001B[49m\u001B[43m(\u001B[49m\u001B[43m)\u001B[49m\n\u001B[0;32m      5\u001B[0m     first \u001B[38;5;241m=\u001B[39m \u001B[38;5;28;01mTrue\u001B[39;00m\n\u001B[0;32m      6\u001B[0m     \u001B[38;5;66;03m# Training phase\u001B[39;00m\n",
      "Cell \u001B[1;32mIn[85], line 20\u001B[0m, in \u001B[0;36mMonteCarloPolicyEval.reset\u001B[1;34m(self)\u001B[0m\n\u001B[0;32m     16\u001B[0m \u001B[38;5;250m\u001B[39m\u001B[38;5;124;03m\"\"\" \u001B[39;00m\n\u001B[0;32m     17\u001B[0m \u001B[38;5;124;03mReset method of your Agent. No inputs, no returns.\u001B[39;00m\n\u001B[0;32m     18\u001B[0m \u001B[38;5;124;03m\"\"\"\u001B[39;00m\n\u001B[0;32m     19\u001B[0m \u001B[38;5;66;03m# TODO: Reset your agent. \u001B[39;00m\n\u001B[1;32m---> 20\u001B[0m \u001B[38;5;28;01mraise\u001B[39;00m \u001B[38;5;167;01mNotImplementedError\u001B[39;00m(\u001B[38;5;124m\"\u001B[39m\u001B[38;5;124mMonteCarloPolicyEval reset method\u001B[39m\u001B[38;5;124m\"\u001B[39m)\n",
      "\u001B[1;31mNotImplementedError\u001B[0m: MonteCarloPolicyEval reset method"
     ]
    }
   ],
   "source": [
    "env = FourRoomsEnv(explo_starts=True, max_steps = 50)\n",
    "shapes = (tuple([env.observation_space[i].n for i in range(len(env.observation_space))]), env.action_space.n)\n",
    "d = {\n",
    "    'env_shapes': shapes,\n",
    "    'epsilon': 0.2,\n",
    "    'gamma': env.gamma,\n",
    "    'pi' : pi\n",
    "}\n",
    "agent_mc = MonteCarloPolicyEval(**d)\n",
    "learn_v_pi(agent_mc, env, 1000)"
   ]
  },
  {
   "cell_type": "markdown",
   "metadata": {},
   "source": [
    "Reminder, to compare with your DP solution:"
   ]
  },
  {
   "cell_type": "code",
   "execution_count": null,
   "metadata": {
    "ExecuteTime": {
     "end_time": "2024-03-14T18:23:30.349972600Z",
     "start_time": "2024-03-14T18:23:30.345983200Z"
    }
   },
   "outputs": [],
   "source": [
    "env.plot_values_policy(agent_dp.V, pi, plot_all_policy = True)"
   ]
  },
  {
   "cell_type": "markdown",
   "metadata": {},
   "source": [
    "<span style=\"color:red\"> **TODO** </span>: Shortly **compare** your results and the methods.\n",
    "\n",
    "(your answer here)"
   ]
  },
  {
   "cell_type": "markdown",
   "metadata": {},
   "source": [
    "## 2. <span style=\"color:green\"> (5 points) </span>  Monte Carlo Control\n",
    "### 2.1. <span style=\"color:blue\"> **TODO** </span> On-Policy MC\n",
    "Policy Evaluation is cool, but the most interesting problem to solve is the Control problem, where we need to find an optimal policy. However, we drastically changed the framework: from perfect access to the MDP dynamics, we now want to learn an optimal policy only from Agent-Environment interactions.\n",
    "\n",
    "- <span style=\"color:red\"> **TODO** </span> **Remind** how MC approaches the Control problem to converge. <br/> (your answer here)\n",
    "- <span style=\"color:red\"> **TODO** </span> **Remind** how on-policy MC works *without exploring starts*.<br/> (your answer here)\n",
    "- <span style=\"color:blue\"> **TODO** </span> **Implement** $\\epsilon$-greedy MC for on-policy Control."
   ]
  },
  {
   "cell_type": "code",
   "execution_count": null,
   "metadata": {
    "ExecuteTime": {
     "start_time": "2024-03-14T18:23:30.347983100Z"
    }
   },
   "outputs": [],
   "source": [
    "class EGMonteCarlo():\n",
    "    \"\"\" Tabular method that keeps the Q-values of all the possible\n",
    "    state-action pairs; updates on an episode-wise schedule\n",
    "    On-Policy version using epsilon-greedy\n",
    "    \"\"\"\n",
    "    def __init__(self, env_shapes, epsilon=0.1, gamma=0.9, **kwargs):\n",
    "        if env_shapes is not None: # otherwise, bandits\n",
    "            self.input_shape, self.n_actions = env_shapes\n",
    "        self.Q = np.zeros((*self.input_shape, self.n_actions)) # Q value estimates. Access a state with Q[s] and state action pair with Q[s][a]\n",
    "        self.gamma = gamma\n",
    "        self.epsilon = epsilon\n",
    "        self.reset()\n",
    "\n",
    "    def reset(self):\n",
    "        raise NotImplementedError(\"EGMonteCarlo reset method\")\n",
    "\n",
    "    def act(self, s):\n",
    "        raise NotImplementedError(\"EGMonteCarlo act method\")\n",
    "\n",
    "    def learn(self, s, a, r, s_, d=False):\n",
    "        raise NotImplementedError(\"EGMonteCarlo reset method\")"
   ]
  },
  {
   "cell_type": "code",
   "execution_count": null,
   "metadata": {
    "ExecuteTime": {
     "end_time": "2024-03-14T18:23:30.353961800Z",
     "start_time": "2024-03-14T18:23:30.350969700Z"
    }
   },
   "outputs": [],
   "source": [
    "def view_train_agent(agent, env, n_episodes):\n",
    "    \"\"\" Returns the steps_history of the agent\"\"\"\n",
    "    evaluations_history = []\n",
    "    view = [0,1,3,5,10,100,500]\n",
    "    agent.reset()\n",
    "    # Training phase\n",
    "    steps_history = np.empty(n_episodes)\n",
    "    for ep in range(n_episodes):\n",
    "        t = 0\n",
    "        s = env.reset()\n",
    "        while True:\n",
    "            action = agent.act(s)\n",
    "            s_, reward, done, info = env.step(action)\n",
    "            agent.learn(s, action, reward, s_, done)\n",
    "            if done:\n",
    "                break\n",
    "            s = s_\n",
    "            t += 1\n",
    "        if ep in view:\n",
    "            print(\"Best Q and action after episode {}:\".format(ep))\n",
    "            best_qs = np.max(agent.Q, axis=-1)\n",
    "            greedy_policy = np.argmax(agent.Q, axis=-1)\n",
    "            env.plot_values_policy(best_qs, greedy_policy)\n",
    "\n",
    "        steps_history[ep] = t\n",
    "        \n",
    "    \n",
    "    print(\"Final Q and policy:\")\n",
    "    best_qs = np.max(agent.Q, axis=-1)\n",
    "    greedy_policy = np.argmax(agent.Q, axis=-1)\n",
    "    env.plot_values_policy(best_qs, greedy_policy)\n",
    "    env.close()\n",
    "    return steps_history[1:] # First is totally random"
   ]
  },
  {
   "cell_type": "markdown",
   "metadata": {},
   "source": [
    "Since there is now stochastic exploration, the episodes will all reach the terminal state, if given enough time. We can remove both the step limit and Exploring Starts."
   ]
  },
  {
   "cell_type": "code",
   "execution_count": null,
   "metadata": {
    "ExecuteTime": {
     "start_time": "2024-03-14T18:23:30.353961800Z"
    }
   },
   "outputs": [],
   "source": [
    "env = FourRoomsEnv()\n",
    "shapes = (tuple([env.observation_space[i].n for i in range(len(env.observation_space))]), env.action_space.n)\n",
    "d = {\n",
    "    'env_shapes': shapes,\n",
    "    'epsilon': 0.2,\n",
    "    'gamma': env.gamma,\n",
    "}\n",
    "agent = EGMonteCarlo(**d)\n",
    "perf_EG = view_train_agent(agent, env, 2000)\n",
    "plt.plot(perf_EG)"
   ]
  },
  {
   "cell_type": "markdown",
   "metadata": {},
   "source": [
    "<span style=\"color:red\"> **TODO** </span>: **Explain** your understanding of how MC updates its values.**Comment** the results you obtained and the evolution of the learnt policy.\n",
    "\n",
    "(your answer here)"
   ]
  },
  {
   "cell_type": "markdown",
   "metadata": {},
   "source": [
    "## 2.2. <span style=\"color:blue\"> **TODO** </span> Off-Policy Monte Carlo\n",
    "On-Policy Monte Carlo without Exploring starts is limited to soft policies. Off-Policy MC offers the promise of learning an optimal policy -and optimal values- by using a behavior policy $b$ different from the learnt policy $\\pi$. In our case, we will follow the course and choose $b$ to be an $\\epsilon$-greedy policy according to our $Q$ estimates, while the learnt $\\pi$ policy is the true optimal policy.\n",
    "- <span style=\"color:blue\"> **TODO** </span> **Implement** MC for Off-policy Control as discussed. Use the same formalism as the On-Policy agent above."
   ]
  },
  {
   "cell_type": "code",
   "execution_count": null,
   "metadata": {
    "ExecuteTime": {
     "end_time": "2024-03-14T18:23:30.364932400Z",
     "start_time": "2024-03-14T18:23:30.356954600Z"
    }
   },
   "outputs": [],
   "source": [
    "class OffMonteCarloIS(EGMonteCarlo):\n",
    "    raise NotImplementedError()"
   ]
  },
  {
   "cell_type": "code",
   "execution_count": null,
   "metadata": {
    "ExecuteTime": {
     "start_time": "2024-03-14T18:23:30.358947900Z"
    }
   },
   "outputs": [],
   "source": [
    "env = FourRoomsEnv()\n",
    "shapes = (tuple([env.observation_space[i].n for i in range(len(env.observation_space))]), env.action_space.n)\n",
    "d = {\n",
    "    'env_shapes': shapes,\n",
    "    'epsilon': 0.2,\n",
    "    'gamma': env.gamma,\n",
    "}\n",
    "agent = OffMonteCarloIS(**d)\n",
    "perf_off = view_train_agent(agent, env, 2000)"
   ]
  },
  {
   "cell_type": "markdown",
   "metadata": {},
   "source": [
    "<span style=\"color:red\"> **TODO** </span>: **Explain** briefly the difference in approach from On to Off policy MC. **Comment** the results you obtained and the evolution of the learnt policy.\n",
    "\n",
    "(your answer here)"
   ]
  }
 ],
 "metadata": {
  "kernelspec": {
   "display_name": "Python 3",
   "language": "python",
   "name": "python3"
  },
  "language_info": {
   "codemirror_mode": {
    "name": "ipython",
    "version": 3
   },
   "file_extension": ".py",
   "mimetype": "text/x-python",
   "name": "python",
   "nbconvert_exporter": "python",
   "pygments_lexer": "ipython3",
   "version": "3.6.15"
  }
 },
 "nbformat": 4,
 "nbformat_minor": 2
}
